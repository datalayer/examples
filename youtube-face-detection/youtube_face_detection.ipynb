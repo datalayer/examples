{
 "cells": [
  {
   "cell_type": "code",
   "execution_count": 1,
   "metadata": {},
   "outputs": [],
   "source": [
    "import os\n",
    "import ray_ease as rez\n",
    "import cv2\n",
    "import moviepy.editor\n",
    "import pytube\n",
    "import warnings\n",
    "\n",
    "warnings.filterwarnings(\"ignore\")\n",
    "\n",
    "tmp = os.getenv(\"MODEL_PATH\")\n",
    "os.environ[\"MODEL_PATH\"] = tmp if tmp else \"./haarcascade_frontalface_default.xml\"\n",
    "\n",
    "OUTPUT_DIR = \"./tmp\""
   ]
  },
  {
   "cell_type": "code",
   "execution_count": 2,
   "metadata": {},
   "outputs": [],
   "source": [
    "@rez.parallelize\n",
    "def detect_faces(fn, start, stop):\n",
    "    # Extract the subclip from the video\n",
    "    clip = moviepy.editor.VideoFileClip(fn).subclip(start, stop)\n",
    "\n",
    "    # Load face detector\n",
    "    face_cascade = cv2.CascadeClassifier(os.getenv(\"MODEL_PATH\"))\n",
    "\n",
    "    # Run face detector on frames\n",
    "    imgs = []\n",
    "    for img in clip.iter_frames():\n",
    "        gray = cv2.cvtColor(img, cv2.COLOR_BGR2GRAY)\n",
    "        faces = face_cascade.detectMultiScale(gray, 1.1, 4)\n",
    "        for x, y, w, h in faces:\n",
    "            cv2.rectangle(img, (x, y), (x + w, y + h), (255, 0, 0), 2)\n",
    "        imgs.append(img)\n",
    "\n",
    "    # Create mp4 of result\n",
    "    out_clip = moviepy.editor.ImageSequenceClip(imgs, fps=clip.fps)\n",
    "    out_fn = f\"./clips/{start:04d}.mp4\"\n",
    "    out_clip.write_videofile(out_fn, logger=None)\n",
    "    return out_fn\n",
    "\n",
    "def process_video(url):\n",
    "    print(f\"Downloading video from '{url}'\")\n",
    "    yt = pytube.YouTube(url)\n",
    "    stream = yt.streams.filter(file_extension=\"mp4\").first()\n",
    "    fn = stream.download(output_path=\"./clips/\", max_retries=5)\n",
    "\n",
    "    # Get duration\n",
    "    duration = moviepy.editor.VideoFileClip(fn).duration\n",
    "\n",
    "    # Create (start, stop) intervals\n",
    "    intervals = [(fn, offset, offset + 1) for offset in range(int(duration))]\n",
    "\n",
    "    print(\"Processing each range of 1s intervals in parallel using Ray\")\n",
    "    out_fns = rez.retrieve([detect_faces(*interval) for interval in intervals], parallel_progress=True, parallel_progress_kwargs={\"desc\": \"1s Intervals\"})\n",
    "\n",
    "    print(\"Converting detections to video clips\")\n",
    "    out_clips = [moviepy.editor.VideoFileClip(out_fn) for out_fn in out_fns]\n",
    "\n",
    "    print(\"Concatenating results\")\n",
    "    final_clip = moviepy.editor.concatenate_videoclips(out_clips)\n",
    "    final_fn = \"./clips/out.mp4\"\n",
    "    final_clip.write_videofile(final_fn, logger=None)\n",
    "\n",
    "    # Return the full image data\n",
    "    with open(final_fn, \"rb\") as f:\n",
    "        return os.path.basename(fn), f.read()\n",
    "    \n",
    "def main(youtube_url: str = \"https://www.youtube.com/watch?v=dQw4w9WgXcQ\", output_dir = OUTPUT_DIR):\n",
    "    fn, movie_data = process_video(youtube_url)\n",
    "    if not os.path.exists(output_dir):\n",
    "        os.mkdir(output_dir)\n",
    "    abs_fn = os.path.join(output_dir, f\"{os.getenv('RAY_EASE')}_\"+fn)\n",
    "    print(f\"writing results to {abs_fn}\")\n",
    "    with open(abs_fn, \"wb\") as f:\n",
    "        f.write(movie_data)"
   ]
  },
  {
   "cell_type": "markdown",
   "metadata": {},
   "source": [
    "## Running the script\n",
    "\n",
    "Note that we don't preserve the sound in the video.\n",
    "\n",
    "**Further directions**\n",
    "\n",
    "As you can tell from the resulting video, this face detection model is not state of the art. It has plenty of false positives (non-faces being labeled faces) and false negatives (real faces not being labeled). For better model, consider a modern one based on deep learning."
   ]
  },
  {
   "cell_type": "code",
   "execution_count": 3,
   "metadata": {},
   "outputs": [
    {
     "name": "stderr",
     "output_type": "stream",
     "text": [
      "2023-10-21 18:11:33,089\tINFO worker.py:1633 -- Started a local Ray instance. View the dashboard at \u001b[1m\u001b[32m127.0.0.1:8266 \u001b[39m\u001b[22m\n"
     ]
    },
    {
     "name": "stdout",
     "output_type": "stream",
     "text": [
      "Downloading video from 'https://www.youtube.com/watch?v=dQw4w9WgXcQ'\n",
      "Processing each range of 1s intervals in parallel using Ray\n"
     ]
    },
    {
     "name": "stderr",
     "output_type": "stream",
     "text": [
      "1s Intervals: 100%|██████████| 212/212 [00:35<00:00,  6.05it/s]\n"
     ]
    },
    {
     "name": "stdout",
     "output_type": "stream",
     "text": [
      "Converting detections to video clips\n",
      "Concatenating results\n",
      "writing results to ./tmp/ray_Never Gonna Give You Up.mp4\n",
      "duration = 0h 0min 49s\n"
     ]
    }
   ],
   "source": [
    "import time\n",
    "\n",
    "start = time.time()\n",
    "\n",
    "rez.init(\"ray\")\n",
    "main()\n",
    "\n",
    "total = time.time() - start\n",
    "print(f\"duration = {int((total//60)//60)}h {int((total//60)%60)}min {int(total%60)}s\")"
   ]
  }
 ],
 "metadata": {
  "kernelspec": {
   "display_name": "Python 3",
   "language": "python",
   "name": "python3"
  },
  "language_info": {
   "codemirror_mode": {
    "name": "ipython",
    "version": 3
   },
   "file_extension": ".py",
   "mimetype": "text/x-python",
   "name": "python",
   "nbconvert_exporter": "python",
   "pygments_lexer": "ipython3",
   "version": "3.10.12"
  }
 },
 "nbformat": 4,
 "nbformat_minor": 2
}
