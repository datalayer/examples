{
 "cells": [
  {
   "cell_type": "markdown",
   "metadata": {
    "id": "eSjydcRcBWP7",
    "papermill": {
     "duration": 0.024951,
     "end_time": "2022-04-27T15:57:24.995193",
     "exception": false,
     "start_time": "2022-04-27T15:57:24.970242",
     "status": "completed"
    },
    "tags": []
   },
   "source": [
    "# Image classification with fast.ai\n",
    "In this notebook you will learn how to make in a few lines of code a model that distinguises cats from dogs in pictures, using the [fast.ai](https://docs.fast.ai/) library.\n",
    "\n",
    "To train a deep learning model, a GPU runtime is needed. With datalayer, you can switch your kernel to a remote kernel with GPU using the kernel picker.\n",
    "\n",
    "## Disclaimer\n",
    "This is widely based on the [fastbook](https://github.com/fastai/fastbook) created by [Jeremy Howard](https://github.com/jph00) and [Sylvain Grugger](https://github.com/sgugger). \n"
   ]
  },
  {
   "cell_type": "markdown",
   "metadata": {},
   "source": [
    "## Setup"
   ]
  },
  {
   "cell_type": "code",
   "execution_count": null,
   "metadata": {},
   "outputs": [],
   "source": [
    "!pip install fastai"
   ]
  },
  {
   "cell_type": "code",
   "execution_count": 2,
   "metadata": {
    "execution": {
     "iopub.execute_input": "2024-07-11T14:52:09.865258Z",
     "iopub.status.busy": "2024-07-11T14:52:09.864792Z",
     "iopub.status.idle": "2024-07-11T14:52:10.185146Z",
     "shell.execute_reply": "2024-07-11T14:52:10.184475Z",
     "shell.execute_reply.started": "2024-07-11T14:52:09.865235Z"
    }
   },
   "outputs": [
    {
     "name": "stdout",
     "output_type": "stream",
     "text": [
      "Thu Jul 11 14:52:09 2024       \n",
      "+-----------------------------------------------------------------------------------------+\n",
      "| NVIDIA-SMI 550.54.15              Driver Version: 550.54.15      CUDA Version: 12.4     |\n",
      "|-----------------------------------------+------------------------+----------------------+\n",
      "| GPU  Name                 Persistence-M | Bus-Id          Disp.A | Volatile Uncorr. ECC |\n",
      "| Fan  Temp   Perf          Pwr:Usage/Cap |           Memory-Usage | GPU-Util  Compute M. |\n",
      "|                                         |                        |               MIG M. |\n",
      "|=========================================+========================+======================|\n",
      "|   0  Tesla V100S-PCIE-32GB          On  |   00000000:00:05.0 Off |                    0 |\n",
      "| N/A   39C    P0             25W /  250W |       0MiB /  32768MiB |      0%      Default |\n",
      "|                                         |                        |                  N/A |\n",
      "+-----------------------------------------+------------------------+----------------------+\n",
      "                                                                                         \n",
      "+-----------------------------------------------------------------------------------------+\n",
      "| Processes:                                                                              |\n",
      "|  GPU   GI   CI        PID   Type   Process name                              GPU Memory |\n",
      "|        ID   ID                                                               Usage      |\n",
      "|=========================================================================================|\n",
      "|  No running processes found                                                             |\n",
      "+-----------------------------------------------------------------------------------------+\n"
     ]
    }
   ],
   "source": [
    "# GPU check\n",
    "!nvidia-smi"
   ]
  },
  {
   "cell_type": "markdown",
   "metadata": {
    "id": "qcGJPzGHEWmD",
    "papermill": {
     "duration": 0.023342,
     "end_time": "2022-04-27T15:57:25.043093",
     "exception": false,
     "start_time": "2022-04-27T15:57:25.019751",
     "status": "completed"
    },
    "tags": []
   },
   "source": [
    "## Dataset\n",
    "\n",
    "A dataset called the [Oxford-IIIT Pet Dataset](http://www.robots.ox.ac.uk/~vgg/data/pets/) that contains 7,349 images of cats and dogs from 37 different breeds will be downloaded from the fast.ai datasets collection and will then be extracted."
   ]
  },
  {
   "cell_type": "code",
   "execution_count": 3,
   "metadata": {
    "execution": {
     "iopub.execute_input": "2024-07-11T14:52:18.893543Z",
     "iopub.status.busy": "2024-07-11T14:52:18.892975Z",
     "iopub.status.idle": "2024-07-11T14:52:42.982455Z",
     "shell.execute_reply": "2024-07-11T14:52:42.981876Z",
     "shell.execute_reply.started": "2024-07-11T14:52:18.893517Z"
    }
   },
   "outputs": [
    {
     "data": {
      "text/html": [
       "\n",
       "<style>\n",
       "    /* Turns off some styling */\n",
       "    progress {\n",
       "        /* gets rid of default border in Firefox and Opera. */\n",
       "        border: none;\n",
       "        /* Needs to be in here for Safari polyfill so background images work as expected. */\n",
       "        background-size: auto;\n",
       "    }\n",
       "    progress:not([value]), progress:not([value])::-webkit-progress-bar {\n",
       "        background: repeating-linear-gradient(45deg, #7e7e7e, #7e7e7e 10px, #5c5c5c 10px, #5c5c5c 20px);\n",
       "    }\n",
       "    .progress-bar-interrupted, .progress-bar-interrupted::-webkit-progress-bar {\n",
       "        background: #F44336;\n",
       "    }\n",
       "</style>\n"
      ],
      "text/plain": [
       "<IPython.core.display.HTML object>"
      ]
     },
     "metadata": {},
     "output_type": "display_data"
    },
    {
     "data": {
      "text/html": [
       "\n",
       "    <div>\n",
       "      <progress value='811712512' class='' max='811706944' style='width:300px; height:20px; vertical-align: middle;'></progress>\n",
       "      100.00% [811712512/811706944 00:13&lt;00:00]\n",
       "    </div>\n",
       "    "
      ],
      "text/plain": [
       "<IPython.core.display.HTML object>"
      ]
     },
     "metadata": {},
     "output_type": "display_data"
    }
   ],
   "source": [
    "from fastai.vision.all import *\n",
    "path = untar_data(URLs.PETS)/'images'  # downloads the data\n",
    "\n",
    "def is_cat(x): return x[0].isupper()  # label function (if uppercase it is a cat, otherwise it is a dog)\n",
    "\n",
    "dls = ImageDataLoaders.from_name_func(\n",
    "    path, get_image_files(path), valid_pct=0.2, seed=42,\n",
    "    label_func=is_cat, item_tfms=Resize(224))  # data loader"
   ]
  },
  {
   "cell_type": "markdown",
   "metadata": {},
   "source": [
    "We can then check if everything looks okay with the `show_batch` method (`True` is for cat, `False` is for dog):"
   ]
  },
  {
   "cell_type": "code",
   "execution_count": null,
   "metadata": {},
   "outputs": [],
   "source": [
    "dls.show_batch()"
   ]
  },
  {
   "cell_type": "markdown",
   "metadata": {},
   "source": [
    "## Model training\n",
    "\n",
    "A *pretrained model* that has already been trained on 1.3 million images, using a competition-winning model will be downloaded from the internet.\n",
    "\n",
    "The pretrained model will be *fine-tuned* using the latest advances in transfer learning, to create a model that is specially customized for recognizing dogs and cats. It will run two epochs, one only on \n",
    "\n",
    "The fine-tuning needs to be run on GPU."
   ]
  },
  {
   "cell_type": "code",
   "execution_count": null,
   "metadata": {
    "scrolled": true
   },
   "outputs": [],
   "source": [
    "learn = cnn_learner(dls, resnet34, metrics=error_rate, cbs=ShowGraphCallback())  # our CNN model\n",
    "learn.fine_tune(2)  # training of the model"
   ]
  },
  {
   "cell_type": "markdown",
   "metadata": {},
   "source": [
    "## Predict on new data"
   ]
  },
  {
   "cell_type": "code",
   "execution_count": 6,
   "metadata": {
    "execution": {
     "iopub.execute_input": "2024-07-11T13:26:58.917775Z",
     "iopub.status.busy": "2024-07-11T13:26:58.917570Z",
     "iopub.status.idle": "2024-07-11T13:26:58.922896Z",
     "shell.execute_reply": "2024-07-11T13:26:58.922468Z",
     "shell.execute_reply.started": "2024-07-11T13:26:58.917756Z"
    }
   },
   "outputs": [],
   "source": [
    "from IPython.display import Image, HTML, display"
   ]
  },
  {
   "cell_type": "code",
   "execution_count": null,
   "metadata": {},
   "outputs": [],
   "source": [
    "! curl https://raw.githubusercontent.com/fastai/fastbook/master/images/chapter1_cat_example.jpg -o /tmp/cat.jpg\n",
    "! ls /tmp/cat.jpg\n",
    "Image(\"/tmp/cat.jpg\")"
   ]
  },
  {
   "cell_type": "code",
   "execution_count": 12,
   "metadata": {
    "execution": {
     "iopub.execute_input": "2024-07-11T12:37:37.931995Z",
     "iopub.status.busy": "2024-07-11T12:37:37.931473Z",
     "iopub.status.idle": "2024-07-11T12:37:37.965953Z",
     "shell.execute_reply": "2024-07-11T12:37:37.965486Z",
     "shell.execute_reply.started": "2024-07-11T12:37:37.931972Z"
    }
   },
   "outputs": [
    {
     "data": {
      "text/html": [
       "\n",
       "<style>\n",
       "    /* Turns off some styling */\n",
       "    progress {\n",
       "        /* gets rid of default border in Firefox and Opera. */\n",
       "        border: none;\n",
       "        /* Needs to be in here for Safari polyfill so background images work as expected. */\n",
       "        background-size: auto;\n",
       "    }\n",
       "    progress:not([value]), progress:not([value])::-webkit-progress-bar {\n",
       "        background: repeating-linear-gradient(45deg, #7e7e7e, #7e7e7e 10px, #5c5c5c 10px, #5c5c5c 20px);\n",
       "    }\n",
       "    .progress-bar-interrupted, .progress-bar-interrupted::-webkit-progress-bar {\n",
       "        background: #F44336;\n",
       "    }\n",
       "</style>\n"
      ],
      "text/plain": [
       "<IPython.core.display.HTML object>"
      ]
     },
     "metadata": {},
     "output_type": "display_data"
    },
    {
     "data": {
      "text/html": [],
      "text/plain": [
       "<IPython.core.display.HTML object>"
      ]
     },
     "metadata": {},
     "output_type": "display_data"
    },
    {
     "data": {
      "text/html": [
       "<h1>Is this a cat?: True.</h1>"
      ],
      "text/plain": [
       "<IPython.core.display.HTML object>"
      ]
     },
     "metadata": {},
     "output_type": "display_data"
    },
    {
     "name": "stdout",
     "output_type": "stream",
     "text": [
      "Probability it's a cat: 1.000000\n"
     ]
    }
   ],
   "source": [
    "pred, _, probs = learn.predict(\"/tmp/cat.jpg\")\n",
    "display(HTML(f\"<h1>Is this a cat?: {pred}.</h1>\"))\n",
    "print(f\"Probability it's a cat: {probs[1].item():.6f}\")"
   ]
  },
  {
   "cell_type": "code",
   "execution_count": null,
   "metadata": {},
   "outputs": [],
   "source": [
    "! curl https://cdn.mos.cms.futurecdn.net/ASHH5bDmsp6wnK6mEfZdcU.jpg -o /tmp/dog.jpg\n",
    "! ls /tmp/dog.jpg\n",
    "Image(\"/tmp/dog.jpg\")"
   ]
  },
  {
   "cell_type": "code",
   "execution_count": 18,
   "metadata": {
    "execution": {
     "iopub.execute_input": "2024-07-11T12:39:37.240055Z",
     "iopub.status.busy": "2024-07-11T12:39:37.239327Z",
     "iopub.status.idle": "2024-07-11T12:39:37.299404Z",
     "shell.execute_reply": "2024-07-11T12:39:37.298868Z",
     "shell.execute_reply.started": "2024-07-11T12:39:37.240029Z"
    }
   },
   "outputs": [
    {
     "data": {
      "text/html": [
       "\n",
       "<style>\n",
       "    /* Turns off some styling */\n",
       "    progress {\n",
       "        /* gets rid of default border in Firefox and Opera. */\n",
       "        border: none;\n",
       "        /* Needs to be in here for Safari polyfill so background images work as expected. */\n",
       "        background-size: auto;\n",
       "    }\n",
       "    progress:not([value]), progress:not([value])::-webkit-progress-bar {\n",
       "        background: repeating-linear-gradient(45deg, #7e7e7e, #7e7e7e 10px, #5c5c5c 10px, #5c5c5c 20px);\n",
       "    }\n",
       "    .progress-bar-interrupted, .progress-bar-interrupted::-webkit-progress-bar {\n",
       "        background: #F44336;\n",
       "    }\n",
       "</style>\n"
      ],
      "text/plain": [
       "<IPython.core.display.HTML object>"
      ]
     },
     "metadata": {},
     "output_type": "display_data"
    },
    {
     "data": {
      "text/html": [],
      "text/plain": [
       "<IPython.core.display.HTML object>"
      ]
     },
     "metadata": {},
     "output_type": "display_data"
    },
    {
     "data": {
      "text/html": [
       "<h1>Is this a cat?: False.</h1>"
      ],
      "text/plain": [
       "<IPython.core.display.HTML object>"
      ]
     },
     "metadata": {},
     "output_type": "display_data"
    },
    {
     "name": "stdout",
     "output_type": "stream",
     "text": [
      "Probability it's a cat: 0.000102\n"
     ]
    }
   ],
   "source": [
    "pred, _, probs = learn.predict(\"/tmp/dog.jpg\")\n",
    "display(HTML(f\"<h1>Is this a cat?: {pred}.</h1>\"))\n",
    "print(f\"Probability it's a cat: {probs[1].item():.6f}\")"
   ]
  },
  {
   "cell_type": "markdown",
   "metadata": {
    "papermill": {
     "duration": 0.04025,
     "end_time": "2022-04-27T16:00:32.833618",
     "exception": false,
     "start_time": "2022-04-27T16:00:32.793368",
     "status": "completed"
    },
    "tags": []
   },
   "source": [
    "## Saving our model"
   ]
  },
  {
   "cell_type": "code",
   "execution_count": 16,
   "metadata": {
    "execution": {
     "iopub.execute_input": "2024-06-26T11:50:13.771573Z",
     "iopub.status.busy": "2024-06-26T11:50:13.771173Z",
     "iopub.status.idle": "2024-06-26T11:50:13.960389Z",
     "shell.execute_reply": "2024-06-26T11:50:13.959604Z",
     "shell.execute_reply.started": "2024-06-26T11:50:13.771539Z"
    }
   },
   "outputs": [],
   "source": [
    "learn.export('export.pkl')"
   ]
  }
 ],
 "metadata": {
  "kernelspec": {
   "display_name": "Python 3 (ipykernel)",
   "language": "python",
   "name": "python3"
  },
  "language_info": {
   "codemirror_mode": {
    "name": "ipython",
    "version": 3
   },
   "file_extension": ".py",
   "mimetype": "text/x-python",
   "name": "python",
   "nbconvert_exporter": "python",
   "pygments_lexer": "ipython3",
   "version": "3.10.14"
  }
 },
 "nbformat": 4,
 "nbformat_minor": 4
}
