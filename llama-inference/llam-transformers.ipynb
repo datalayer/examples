{
 "cells": [
  {
   "cell_type": "markdown",
   "metadata": {},
   "source": [
    "# LAMA Example with GPU"
   ]
  },
  {
   "cell_type": "markdown",
   "metadata": {},
   "source": [
    "Inspired by the original source code available at [Modal Labs GitHub](https://github.com/modal-labs/modal-examples/blob/main/06_gpu_and_ml/openllama.py)."
   ]
  },
  {
   "cell_type": "code",
   "execution_count": 1,
   "metadata": {
    "datalayer": {
     "kernel": {
      "displayName": "Python Simple Environment",
      "id": "70665aef-1f3a-4346-8f28-03efac3f3e44",
      "language": "python",
      "location": "remote",
      "name": "python-simple-env"
     }
    },
    "execution": {
     "iopub.execute_input": "2024-03-25T16:03:39.428741Z",
     "iopub.status.busy": "2024-03-25T16:03:39.428296Z",
     "iopub.status.idle": "2024-03-25T16:03:39.434673Z",
     "shell.execute_reply": "2024-03-25T16:03:39.433970Z",
     "shell.execute_reply.started": "2024-03-25T16:03:39.428700Z"
    }
   },
   "outputs": [
    {
     "ename": "ModuleNotFoundError",
     "evalue": "No module named 'transformers'",
     "output_type": "error",
     "traceback": [
      "\u001b[0;31mModuleNotFoundError\u001b[0m\u001b[0;31m:\u001b[0m No module named 'transformers'\n"
     ]
    }
   ],
   "source": [
    "from transformers import LlamaForCausalLM, LlamaTokenizer\n",
    "from transformers import GenerationConfig\n",
    "import torch\n",
    "\n",
    "BASE_MODEL = \"openlm-research/open_llama_7b\""
   ]
  },
  {
   "cell_type": "code",
   "execution_count": 2,
   "metadata": {
    "execution": {
     "iopub.execute_input": "2024-03-22T16:55:37.202388Z",
     "iopub.status.busy": "2024-03-22T16:55:37.202127Z",
     "iopub.status.idle": "2024-03-22T16:55:37.205677Z",
     "shell.execute_reply": "2024-03-22T16:55:37.205155Z",
     "shell.execute_reply.started": "2024-03-22T16:55:37.202367Z"
    }
   },
   "outputs": [],
   "source": [
    "def download_models():\n",
    "    LlamaForCausalLM.from_pretrained(BASE_MODEL)\n",
    "    LlamaTokenizer.from_pretrained(BASE_MODEL)"
   ]
  },
  {
   "cell_type": "code",
   "execution_count": 1,
   "metadata": {
    "execution": {
     "iopub.execute_input": "2024-03-22T12:03:58.994338Z",
     "iopub.status.busy": "2024-03-22T12:03:58.993846Z",
     "iopub.status.idle": "2024-03-22T12:03:59.219226Z",
     "shell.execute_reply": "2024-03-22T12:03:59.218608Z",
     "shell.execute_reply.started": "2024-03-22T12:03:58.994316Z"
    }
   },
   "outputs": [
    {
     "name": "stdout",
     "output_type": "stream",
     "text": [
      "jupyter-01hsk0kbv0qrq6psxx3h37nkmb\n"
     ]
    }
   ],
   "source": [
    "!hostname"
   ]
  },
  {
   "cell_type": "code",
   "execution_count": 2,
   "metadata": {
    "execution": {
     "iopub.execute_input": "2024-03-22T11:28:11.144386Z",
     "iopub.status.busy": "2024-03-22T11:28:11.143683Z",
     "iopub.status.idle": "2024-03-22T11:30:54.428399Z",
     "shell.execute_reply": "2024-03-22T11:30:54.425694Z",
     "shell.execute_reply.started": "2024-03-22T11:28:11.144363Z"
    }
   },
   "outputs": [
    {
     "data": {
      "application/vnd.jupyter.widget-view+json": {
       "model_id": "44328c7ebe4e4615b82661ec8d5d9028",
       "version_major": 2,
       "version_minor": 0
      },
      "text/plain": [
       "config.json:   0%|          | 0.00/507 [00:00<?, ?B/s]"
      ]
     },
     "metadata": {},
     "output_type": "display_data"
    },
    {
     "data": {
      "application/vnd.jupyter.widget-view+json": {
       "model_id": "b2aa46382574477e9b94c8e6408821db",
       "version_major": 2,
       "version_minor": 0
      },
      "text/plain": [
       "pytorch_model.bin.index.json:   0%|          | 0.00/26.8k [00:00<?, ?B/s]"
      ]
     },
     "metadata": {},
     "output_type": "display_data"
    },
    {
     "data": {
      "application/vnd.jupyter.widget-view+json": {
       "model_id": "f12d3592583940faaa99fc88371eefde",
       "version_major": 2,
       "version_minor": 0
      },
      "text/plain": [
       "Downloading shards:   0%|          | 0/2 [00:00<?, ?it/s]"
      ]
     },
     "metadata": {},
     "output_type": "display_data"
    },
    {
     "data": {
      "application/vnd.jupyter.widget-view+json": {
       "model_id": "09825ea9c473404886681134b56a4f50",
       "version_major": 2,
       "version_minor": 0
      },
      "text/plain": [
       "pytorch_model-00001-of-00002.bin:   0%|          | 0.00/9.98G [00:00<?, ?B/s]"
      ]
     },
     "metadata": {},
     "output_type": "display_data"
    },
    {
     "data": {
      "application/vnd.jupyter.widget-view+json": {
       "model_id": "68510878073a472ebc161fa53523457c",
       "version_major": 2,
       "version_minor": 0
      },
      "text/plain": [
       "pytorch_model-00002-of-00002.bin:   0%|          | 0.00/3.50G [00:00<?, ?B/s]"
      ]
     },
     "metadata": {},
     "output_type": "display_data"
    },
    {
     "ename": "KeyboardInterrupt",
     "evalue": "",
     "output_type": "error",
     "traceback": [
      "\u001b[0;31mKeyboardInterrupt\u001b[0m\n"
     ]
    }
   ],
   "source": [
    "download_models()"
   ]
  },
  {
   "cell_type": "code",
   "execution_count": null,
   "metadata": {},
   "outputs": [],
   "source": [
    "class OpenLlamaModel:\n",
    "    def __enter__(self):\n",
    "\n",
    "        self.tokenizer = LlamaTokenizer.from_pretrained(BASE_MODEL)\n",
    "\n",
    "        model = LlamaForCausalLM.from_pretrained(\n",
    "            BASE_MODEL,\n",
    "            torch_dtype=torch.float16,\n",
    "            device_map=\"auto\",\n",
    "        )\n",
    "\n",
    "        self.tokenizer.bos_token_id = 1\n",
    "\n",
    "        model.eval()\n",
    "        self.model = torch.compile(model)\n",
    "        self.device = \"cuda\"\n",
    "\n",
    "    def generate(\n",
    "        self,\n",
    "        input,\n",
    "        max_new_tokens=128,\n",
    "        **kwargs,\n",
    "    ):\n",
    "        inputs = self.tokenizer(input, return_tensors=\"pt\")\n",
    "        input_ids = inputs[\"input_ids\"].to(self.device)\n",
    "\n",
    "        generation_config = GenerationConfig(**kwargs)\n",
    "        with torch.no_grad():\n",
    "            generation_output = self.model.generate(\n",
    "                input_ids=input_ids,\n",
    "                generation_config=generation_config,\n",
    "                return_dict_in_generate=True,\n",
    "                output_scores=True,\n",
    "                max_new_tokens=max_new_tokens,\n",
    "            )\n",
    "        s = generation_output.sequences[0]\n",
    "        output = self.tokenizer.decode(s)\n",
    "        print(f\"\\033[96m{input}\\033[0m\")\n",
    "        print(output.split(input)[1].strip())"
   ]
  },
  {
   "cell_type": "code",
   "execution_count": null,
   "metadata": {},
   "outputs": [],
   "source": [
    "def main():\n",
    "    inputs = [\n",
    "        \"Building a website can be done in 10 simple steps:\",\n",
    "    ]\n",
    "    model = OpenLlamaModel()\n",
    "    for input in inputs:\n",
    "        model.generate(\n",
    "            input,\n",
    "            top_p=0.75,\n",
    "            top_k=40,\n",
    "            num_beams=1,\n",
    "            temperature=0.1,\n",
    "            do_sample=True,\n",
    "        )"
   ]
  },
  {
   "cell_type": "code",
   "execution_count": null,
   "metadata": {},
   "outputs": [],
   "source": [
    "main()"
   ]
  },
  {
   "cell_type": "code",
   "execution_count": null,
   "metadata": {},
   "outputs": [],
   "source": []
  }
 ],
 "metadata": {
  "kernelspec": {
   "display_name": "Python 3 (ipykernel)",
   "language": "python",
   "name": "python3"
  },
  "language_info": {
   "codemirror_mode": {
    "name": "ipython",
    "version": 3
   },
   "file_extension": ".py",
   "mimetype": "text/x-python",
   "name": "python",
   "nbconvert_exporter": "python",
   "pygments_lexer": "ipython3",
   "version": "3.10.14"
  }
 },
 "nbformat": 4,
 "nbformat_minor": 4
}
