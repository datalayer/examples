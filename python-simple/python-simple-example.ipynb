{
 "cells": [
  {
   "cell_type": "markdown",
   "id": "5d9b9d85-0a72-40fa-9205-13cd57238488",
   "metadata": {},
   "source": [
    "# Datalayer Run - Python Simple Example"
   ]
  },
  {
   "cell_type": "code",
   "execution_count": 2,
   "id": "ffe4759b-364f-4e42-92d6-0a67fb3d3be0",
   "metadata": {},
   "outputs": [
    {
     "data": {
      "text/plain": [
       "2"
      ]
     },
     "execution_count": 2,
     "metadata": {},
     "output_type": "execute_result"
    }
   ],
   "source": [
    "1+1"
   ]
  },
  {
   "cell_type": "code",
   "execution_count": null,
   "id": "eaf7b305-0dc9-4ff0-9e37-c5b6f3bf446f",
   "metadata": {},
   "outputs": [],
   "source": []
  }
 ],
 "metadata": {
  "kernelspec": {
   "display_name": "Python 3 (ipykernel)",
   "language": "python",
   "name": "python3"
  },
  "language_info": {
   "codemirror_mode": {
    "name": "ipython",
    "version": 3
   },
   "file_extension": ".py",
   "mimetype": "text/x-python",
   "name": "python",
   "nbconvert_exporter": "python",
   "pygments_lexer": "ipython3",
   "version": "3.11.6"
  }
 },
 "nbformat": 4,
 "nbformat_minor": 5
}
