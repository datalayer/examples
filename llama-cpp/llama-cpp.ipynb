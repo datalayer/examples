{
 "cells": [
  {
   "cell_type": "code",
   "execution_count": null,
   "id": "80a7e599-5382-41ee-87bc-aadc528f68fe",
   "metadata": {},
   "outputs": [],
   "source": [
    "from llama_cpp import Llama\n",
    "\n",
    "llm = Llama.from_pretrained(\n",
    "    repo_id=\"Qwen/Qwen1.5-0.5B-Chat-GGUF\",\n",
    "    n_gpu_layers=3,\n",
    "    filename=\"*q8_0.gguf\",\n",
    "    verbose=False\n",
    ")\n",
    "\n",
    "llm = Llama(\n",
    "    model_path=\"/home/jovyan/.cache/huggingface/hub/models--Qwen--Qwen1.5-0.5B-Chat-GGUF/snapshots/2ae88ac7ba1404f66110691258afdf39ba84fff3/qwen1_5-0_5b-chat-q8_0.gguf\",\n",
    "    n_gpu_layers=-1, # Uncomment to use GPU acceleration\n",
    "    # seed=1337, # Uncomment to set a specific seed\n",
    "    # n_ctx=2048, # Uncomment to increase the context window\n",
    ")\n",
    "\n",
    "output = llm(\n",
    "    \"Q: How are you? A: \", # Prompt\n",
    "    max_tokens=None, # Generate up to 32 tokens, set to None to generate up to the end of the context window\n",
    "    stop=[\"Q:\", \"\\n\"], # Stop generating just before the model would generate a new question\n",
    "    echo=True # Echo the prompt back in the output\n",
    ") # Generate a completion, can also call create_completion\n",
    "\n",
    "print(output[\"choices\"][0][\"text\"])\n",
    "\n",
    "print(output)\n",
    "\n",
    "llm = Llama(\n",
    "    model_path=\"/home/jovyan/.cache/huggingface/hub/models--Qwen--Qwen1.5-0.5B-Chat-GGUF/snapshots/2ae88ac7ba1404f66110691258afdf39ba84fff3/qwen1_5-0_5b-chat-q8_0.gguf\",\n",
    "    chat_format=\"llama-2\"\n",
    ")\n",
    "\n",
    "llm.create_chat_completion(\n",
    "      messages = [\n",
    "          {\"role\": \"system\", \"content\": \"You are an assistant who perfectly describes images.\"},\n",
    "          {\n",
    "              \"role\": \"user\",\n",
    "              \"content\": \"Describe this image in detail please.\"\n",
    "          }\n",
    "      ]\n",
    ")\n"
   ]
  }
 ],
 "metadata": {
  "kernelspec": {
   "display_name": "Python 3 (ipykernel)",
   "language": "python",
   "name": "python3"
  },
  "language_info": {
   "codemirror_mode": {
    "name": "ipython",
    "version": 3
   },
   "file_extension": ".py",
   "mimetype": "text/x-python",
   "name": "python",
   "nbconvert_exporter": "python",
   "pygments_lexer": "ipython3",
   "version": "3.10.14"
  }
 },
 "nbformat": 4,
 "nbformat_minor": 5
}
