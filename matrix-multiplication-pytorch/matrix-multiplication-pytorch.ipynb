{
 "cells": [
  {
   "cell_type": "markdown",
   "metadata": {},
   "source": [
    "# Matrix Multiplication"
   ]
  },
  {
   "cell_type": "markdown",
   "metadata": {},
   "source": [
    "This notebook demonstrates use **Cell-specific Runtimes**, allowing you to execute specific cells with different runtimes.\n",
    "\n",
    "This feature **optimizes costs** by enabling you to, for example, leverage the local CPU for data preparation and reserving the powerful (and often more expensive) GPU resources for intensive computations like matrix multiplication."
   ]
  },
  {
   "cell_type": "code",
   "execution_count": 1,
   "metadata": {
    "execution": {
     "iopub.execute_input": "2025-03-11T05:51:42.743464Z",
     "iopub.status.busy": "2025-03-11T05:51:42.743212Z",
     "iopub.status.idle": "2025-03-11T05:51:43.098005Z",
     "shell.execute_reply": "2025-03-11T05:51:43.097534Z",
     "shell.execute_reply.started": "2025-03-11T05:51:42.743440Z"
    }
   },
   "outputs": [
    {
     "data": {
      "text/html": [
       "<div>\n",
       "<style scoped>\n",
       "    .dataframe tbody tr th:only-of-type {\n",
       "        vertical-align: middle;\n",
       "    }\n",
       "\n",
       "    .dataframe tbody tr th {\n",
       "        vertical-align: top;\n",
       "    }\n",
       "\n",
       "    .dataframe thead th {\n",
       "        text-align: right;\n",
       "    }\n",
       "</style>\n",
       "<table border=\"1\" class=\"dataframe\">\n",
       "  <thead>\n",
       "    <tr style=\"text-align: right;\">\n",
       "      <th></th>\n",
       "      <th>A</th>\n",
       "      <th>B</th>\n",
       "      <th>C</th>\n",
       "    </tr>\n",
       "  </thead>\n",
       "  <tbody>\n",
       "    <tr>\n",
       "      <th>0</th>\n",
       "      <td>-0.565669</td>\n",
       "      <td>-0.733876</td>\n",
       "      <td>0.277265</td>\n",
       "    </tr>\n",
       "    <tr>\n",
       "      <th>1</th>\n",
       "      <td>-1.814135</td>\n",
       "      <td>0.681864</td>\n",
       "      <td>1.444465</td>\n",
       "    </tr>\n",
       "    <tr>\n",
       "      <th>2</th>\n",
       "      <td>1.906627</td>\n",
       "      <td>-0.739101</td>\n",
       "      <td>-0.353529</td>\n",
       "    </tr>\n",
       "    <tr>\n",
       "      <th>3</th>\n",
       "      <td>0.656280</td>\n",
       "      <td>0.634613</td>\n",
       "      <td>1.257033</td>\n",
       "    </tr>\n",
       "    <tr>\n",
       "      <th>4</th>\n",
       "      <td>-0.092451</td>\n",
       "      <td>-1.008384</td>\n",
       "      <td>1.286036</td>\n",
       "    </tr>\n",
       "  </tbody>\n",
       "</table>\n",
       "</div>"
      ],
      "text/plain": [
       "          A         B         C\n",
       "0 -0.565669 -0.733876  0.277265\n",
       "1 -1.814135  0.681864  1.444465\n",
       "2  1.906627 -0.739101 -0.353529\n",
       "3  0.656280  0.634613  1.257033\n",
       "4 -0.092451 -1.008384  1.286036"
      ]
     },
     "execution_count": 1,
     "metadata": {},
     "output_type": "execute_result"
    }
   ],
   "source": [
    "# Load a dataframe in a local CPU Kernel.\n",
    "import pandas as pd\n",
    "import numpy as np\n",
    "\n",
    "# Create a sample dataframe.\n",
    "MAT_SIZE = 10000\n",
    "\n",
    "data = {\n",
    "    'A': np.random.randn(MAT_SIZE),\n",
    "    'B': np.random.randn(MAT_SIZE),\n",
    "    'C': np.random.randn(MAT_SIZE),\n",
    "}\n",
    "\n",
    "df = pd.DataFrame(data)\n",
    "\n",
    "# Display the first few rows of the dataframe.\n",
    "df.head()"
   ]
  },
  {
   "cell_type": "code",
   "execution_count": 2,
   "metadata": {
    "execution": {
     "iopub.execute_input": "2025-03-11T05:51:43.808178Z",
     "iopub.status.busy": "2025-03-11T05:51:43.807871Z",
     "iopub.status.idle": "2025-03-11T05:51:43.927628Z",
     "shell.execute_reply": "2025-03-11T05:51:43.927210Z",
     "shell.execute_reply.started": "2025-03-11T05:51:43.808163Z"
    }
   },
   "outputs": [
    {
     "ename": "ModuleNotFoundError",
     "evalue": "No module named 'torch'",
     "output_type": "error",
     "traceback": [
      "\u001b[31m---------------------------------------------------------------------------\u001b[39m",
      "\u001b[31mModuleNotFoundError\u001b[39m                       Traceback (most recent call last)",
      "\u001b[36mCell\u001b[39m\u001b[36m \u001b[39m\u001b[32mIn[2]\u001b[39m\u001b[32m, line 1\u001b[39m\n\u001b[32m----> \u001b[39m\u001b[32m1\u001b[39m \u001b[38;5;28;01mimport\u001b[39;00m\u001b[38;5;250m \u001b[39m\u001b[34;01mtorch\u001b[39;00m\n\u001b[32m      3\u001b[39m \u001b[38;5;66;03m# Convert dataframe to torch tensor.\u001b[39;00m\n\u001b[32m      4\u001b[39m tensor = torch.tensor(df.values).float()\n",
      "\u001b[31mModuleNotFoundError\u001b[39m: No module named 'torch'"
     ]
    }
   ],
   "source": [
    "import torch\n",
    "\n",
    "# Convert dataframe to torch tensor.\n",
    "tensor = torch.tensor(df.values).float()\n",
    "\n",
    "# Perform a intensive operator e.g. a matrix multiplication.\n",
    "result = torch.matmul(tensor, tensor.T)\n",
    "\n",
    "# Convert to numpy.\n",
    "result_np = result.numpy()\n",
    "print(result_np)"
   ]
  },
  {
   "cell_type": "code",
   "execution_count": 33,
   "metadata": {
    "execution": {
     "iopub.execute_input": "2025-02-27T17:08:05.063140Z",
     "iopub.status.busy": "2025-02-27T17:08:05.062959Z",
     "iopub.status.idle": "2025-02-27T17:08:05.547162Z",
     "shell.execute_reply": "2025-02-27T17:08:05.546630Z",
     "shell.execute_reply.started": "2025-02-27T17:08:05.063125Z"
    }
   },
   "outputs": [
    {
     "data": {
      "text/plain": [
       "array([[ 6.0097365 , -1.3052984 , -2.9362357 , ...,  0.67011607,\n",
       "         2.8052537 , -4.080495  ],\n",
       "       [-1.3052984 ,  6.996369  ,  0.2577951 , ...,  5.037969  ,\n",
       "        -1.5682844 ,  1.5978539 ],\n",
       "       [-2.9362357 ,  0.2577951 ,  1.563607  , ..., -0.56691253,\n",
       "        -0.81386954,  1.9912817 ],\n",
       "       ...,\n",
       "       [ 0.67011607,  5.037969  , -0.56691253, ...,  4.104313  ,\n",
       "        -0.17592496,  0.11346821],\n",
       "       [ 2.8052537 , -1.5682844 , -0.81386954, ..., -0.17592496,\n",
       "         3.7944398 , -1.8292099 ],\n",
       "       [-4.080495  ,  1.5978539 ,  1.9912817 , ...,  0.11346821,\n",
       "        -1.8292099 ,  2.8593738 ]], dtype=float32)"
      ]
     },
     "execution_count": 33,
     "metadata": {},
     "output_type": "execute_result"
    }
   ],
   "source": [
    "# Transfer dataframe to GPU Kernel and perform computation.\n",
    "import torch\n",
    "\n",
    "# Convert dataframe to torch tensor and transfer to GPU.\n",
    "# tensor = torch.tensor(df.values).float().cuda()\n",
    "tensor = torch.tensor(df.values).float()\n",
    "\n",
    "# Perform a intensive operator e.g. a matrix multiplication.\n",
    "result = torch.matmul(tensor, tensor.T)\n",
    "\n",
    "# Convert to numpy.\n",
    "result_np = result.cpu().numpy()\n",
    "result_np"
   ]
  },
  {
   "cell_type": "code",
   "execution_count": 34,
   "metadata": {
    "execution": {
     "iopub.execute_input": "2025-02-27T17:08:08.443472Z",
     "iopub.status.busy": "2025-02-27T17:08:08.443227Z",
     "iopub.status.idle": "2025-02-27T17:08:08.447051Z",
     "shell.execute_reply": "2025-02-27T17:08:08.446604Z",
     "shell.execute_reply.started": "2025-02-27T17:08:08.443456Z"
    }
   },
   "outputs": [
    {
     "data": {
      "text/plain": [
       "(10000, 10000)"
      ]
     },
     "execution_count": 34,
     "metadata": {},
     "output_type": "execute_result"
    }
   ],
   "source": [
    "# Display the shape of the result.\n",
    "result_np.shape"
   ]
  },
  {
   "cell_type": "code",
   "execution_count": null,
   "metadata": {},
   "outputs": [],
   "source": []
  }
 ],
 "metadata": {
  "kernelspec": {
   "display_name": "Python 3 (ipykernel)",
   "language": "python",
   "name": "python3"
  },
  "language_info": {
   "codemirror_mode": {
    "name": "ipython",
    "version": 3
   },
   "file_extension": ".py",
   "mimetype": "text/x-python",
   "name": "python",
   "nbconvert_exporter": "python",
   "pygments_lexer": "ipython3",
   "version": "3.11.11"
  }
 },
 "nbformat": 4,
 "nbformat_minor": 4
}
