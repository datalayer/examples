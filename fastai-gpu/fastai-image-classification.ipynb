{
 "cells": [
  {
   "cell_type": "markdown",
   "metadata": {
    "id": "eSjydcRcBWP7",
    "papermill": {
     "duration": 0.024951,
     "end_time": "2022-04-27T15:57:24.995193",
     "exception": false,
     "start_time": "2022-04-27T15:57:24.970242",
     "status": "completed"
    },
    "tags": []
   },
   "source": [
    "# Image classification with Fastai\n",
    "In this notebook you will learn how to make in a few lines of code a model that distinguises cats from dogs in pictures, using the [fastai](https://docs.fast.ai/) library.\n",
    "\n",
    "<font color='green'>To train a deep learning model, a GPU runtime is needed. With datalayer, you can switch your kernel to a remote kernel with GPU using the kernel picker.</font>\n",
    "\n",
    "## Disclaimer\n",
    "This is widely based on the [fastbook](https://github.com/fastai/fastbook) created by [Jeremy Howard](https://github.com/jph00) and [Sylvain Grugger](https://github.com/sgugger). \n"
   ]
  },
  {
   "cell_type": "markdown",
   "metadata": {
    "id": "qcGJPzGHEWmD",
    "papermill": {
     "duration": 0.023342,
     "end_time": "2022-04-27T15:57:25.043093",
     "exception": false,
     "start_time": "2022-04-27T15:57:25.019751",
     "status": "completed"
    },
    "tags": []
   },
   "source": [
    "## Dataset\n",
    "\n",
    "A dataset called the [Oxford-IIIT Pet Dataset](http://www.robots.ox.ac.uk/~vgg/data/pets/) that contains 7,349 images of cats and dogs from 37 different breeds will be downloaded from the fast.ai datasets collection and will then be extracted."
   ]
  },
  {
   "cell_type": "code",
   "execution_count": 4,
   "metadata": {
    "datalayer": {
     "kernel": {
      "displayName": "Python GPU",
      "id": "577426fe-cc3c-4b16-81bd-b2a3ca0602b6",
      "language": "python",
      "location": "remote",
      "name": "run-python-gpu"
     }
    },
    "execution": {
     "iopub.execute_input": "2024-01-27T13:38:20.262268Z",
     "iopub.status.busy": "2024-01-27T13:38:20.260399Z",
     "iopub.status.idle": "2024-01-27T13:38:20.299084Z",
     "shell.execute_reply": "2024-01-27T13:38:20.297960Z",
     "shell.execute_reply.started": "2024-01-27T13:38:20.262163Z"
    }
   },
   "outputs": [
    {
     "ename": "ModuleNotFoundError",
     "evalue": "No module named 'fastai'",
     "output_type": "error",
     "traceback": [
      "\u001b[0;31m---------------------------------------------------------------------------\u001b[0m",
      "\u001b[0;31mModuleNotFoundError\u001b[0m                       Traceback (most recent call last)",
      "Cell \u001b[0;32mIn[4], line 1\u001b[0m\n\u001b[0;32m----> 1\u001b[0m \u001b[38;5;28;01mfrom\u001b[39;00m \u001b[38;5;21;01mfastai\u001b[39;00m\u001b[38;5;21;01m.\u001b[39;00m\u001b[38;5;21;01mvision\u001b[39;00m\u001b[38;5;21;01m.\u001b[39;00m\u001b[38;5;21;01mall\u001b[39;00m \u001b[38;5;28;01mimport\u001b[39;00m \u001b[38;5;241m*\u001b[39m\n\u001b[1;32m      2\u001b[0m path \u001b[38;5;241m=\u001b[39m untar_data(URLs\u001b[38;5;241m.\u001b[39mPETS)\u001b[38;5;241m/\u001b[39m\u001b[38;5;124m'\u001b[39m\u001b[38;5;124mimages\u001b[39m\u001b[38;5;124m'\u001b[39m  \u001b[38;5;66;03m# downloads the data\u001b[39;00m\n\u001b[1;32m      4\u001b[0m \u001b[38;5;28;01mdef\u001b[39;00m \u001b[38;5;21mis_cat\u001b[39m(x): \u001b[38;5;28;01mreturn\u001b[39;00m x[\u001b[38;5;241m0\u001b[39m]\u001b[38;5;241m.\u001b[39misupper()  \u001b[38;5;66;03m# label function (if uppercase it is a cat, otherwise it is a dog)\u001b[39;00m\n",
      "\u001b[0;31mModuleNotFoundError\u001b[0m: No module named 'fastai'"
     ]
    }
   ],
   "source": [
    "from fastai.vision.all import *\n",
    "path = untar_data(URLs.PETS)/'images'  # downloads the data\n",
    "\n",
    "def is_cat(x): return x[0].isupper()  # label function (if uppercase it is a cat, otherwise it is a dog)\n",
    "\n",
    "dls = ImageDataLoaders.from_name_func(\n",
    "    path, get_image_files(path), valid_pct=0.2, seed=42,\n",
    "    label_func=is_cat, item_tfms=Resize(224))  # data loader"
   ]
  },
  {
   "cell_type": "markdown",
   "metadata": {},
   "source": [
    "We can then check if everything looks okay with the `show_batch` method (`True` is for cat, `False` is for dog):"
   ]
  },
  {
   "cell_type": "code",
   "execution_count": null,
   "metadata": {
    "datalayer": {
     "kernel": {
      "displayName": "Python GPU",
      "language": "python",
      "location": "remote",
      "name": "run-python-gpu"
     }
    }
   },
   "outputs": [],
   "source": [
    "dls.show_batch()"
   ]
  },
  {
   "cell_type": "markdown",
   "metadata": {},
   "source": [
    "## Model training\n",
    "\n",
    "A *pretrained model* that has already been trained on 1.3 million images, using a competition-winning model will be downloaded from the internet.\n",
    "\n",
    "The pretrained model will be *fine-tuned* using the latest advances in transfer learning, to create a model that is specially customized for recognizing dogs and cats. It will run two epochs, one only on \n",
    "\n",
    "The fine-tuning needs to be run on GPU."
   ]
  },
  {
   "cell_type": "code",
   "execution_count": 1,
   "metadata": {
    "datalayer": {
     "kernel": {
      "displayName": "Python GPU",
      "id": "0b4f7fa2-af4e-47d6-8921-da5e15e5d0e3",
      "language": "python",
      "location": "remote",
      "name": "run-python-gpu"
     }
    },
    "execution": {
     "iopub.execute_input": "2024-01-27T13:36:56.416175Z",
     "iopub.status.busy": "2024-01-27T13:36:56.414590Z",
     "iopub.status.idle": "2024-01-27T13:36:56.728150Z",
     "shell.execute_reply": "2024-01-27T13:36:56.726354Z",
     "shell.execute_reply.started": "2024-01-27T13:36:56.416101Z"
    },
    "id": "ZwtVH7LHEDLw",
    "outputId": "dfdaa266-9f85-42eb-90e3-05607a941ece",
    "papermill": {
     "duration": 184.87946,
     "end_time": "2022-04-27T16:00:29.946053",
     "exception": false,
     "start_time": "2022-04-27T15:57:25.066593",
     "status": "completed"
    },
    "tags": []
   },
   "outputs": [
    {
     "ename": "NameError",
     "evalue": "name 'cnn_learner' is not defined",
     "output_type": "error",
     "traceback": [
      "\u001b[0;31m---------------------------------------------------------------------------\u001b[0m",
      "\u001b[0;31mNameError\u001b[0m                                 Traceback (most recent call last)",
      "Cell \u001b[0;32mIn[1], line 1\u001b[0m\n\u001b[0;32m----> 1\u001b[0m learn \u001b[38;5;241m=\u001b[39m \u001b[43mcnn_learner\u001b[49m(dls, resnet34, metrics\u001b[38;5;241m=\u001b[39merror_rate, cbs\u001b[38;5;241m=\u001b[39mShowGraphCallback())  \u001b[38;5;66;03m# our CNN model\u001b[39;00m\n\u001b[1;32m      2\u001b[0m learn\u001b[38;5;241m.\u001b[39mfine_tune(\u001b[38;5;241m2\u001b[39m)  \u001b[38;5;66;03m# training of the model\u001b[39;00m\n",
      "\u001b[0;31mNameError\u001b[0m: name 'cnn_learner' is not defined"
     ]
    }
   ],
   "source": [
    "learn = cnn_learner(dls, resnet34, metrics=error_rate, cbs=ShowGraphCallback())  # our CNN model\n",
    "learn.fine_tune(2)  # training of the model"
   ]
  },
  {
   "cell_type": "markdown",
   "metadata": {},
   "source": [
    "## Predict on new data"
   ]
  },
  {
   "cell_type": "code",
   "execution_count": null,
   "metadata": {
    "datalayer": {
     "kernel": {
      "displayName": "Python GPU",
      "language": "python",
      "location": "remote",
      "name": "run-python-gpu"
     }
    }
   },
   "outputs": [],
   "source": [
    "pred,_,probs = learn.predict(\n",
    "    \"https://github.com/fastai/fastbook/blob/master/images/chapter1_cat_example.jpg\")\n",
    "print(f\"Is this a cat?: {pred}.\")\n",
    "print(f\"Probability it's a cat: {probs[1].item():.6f}\")"
   ]
  },
  {
   "cell_type": "markdown",
   "metadata": {
    "papermill": {
     "duration": 0.04025,
     "end_time": "2022-04-27T16:00:32.833618",
     "exception": false,
     "start_time": "2022-04-27T16:00:32.793368",
     "status": "completed"
    },
    "tags": []
   },
   "source": [
    "## Saving our model"
   ]
  },
  {
   "cell_type": "code",
   "execution_count": null,
   "metadata": {
    "datalayer": {
     "kernel": {
      "displayName": "Python GPU",
      "language": "python",
      "location": "remote",
      "name": "run-python-gpu"
     }
    },
    "execution": {
     "iopub.execute_input": "2023-03-15T08:32:33.866363Z",
     "iopub.status.busy": "2023-03-15T08:32:33.865738Z",
     "iopub.status.idle": "2023-03-15T08:32:34.041801Z",
     "shell.execute_reply": "2023-03-15T08:32:34.040767Z",
     "shell.execute_reply.started": "2023-03-15T08:32:33.866325Z"
    },
    "papermill": {
     "duration": 0.216367,
     "end_time": "2022-04-27T16:00:33.090048",
     "exception": false,
     "start_time": "2022-04-27T16:00:32.873681",
     "status": "completed"
    },
    "tags": []
   },
   "outputs": [],
   "source": [
    "learn.export('export.pkl')"
   ]
  }
 ],
 "metadata": {
  "kernelspec": {
   "display_name": "Python 3 (ipykernel)",
   "language": "python",
   "name": "python3"
  },
  "language_info": {
   "codemirror_mode": {
    "name": "ipython",
    "version": 3
   },
   "file_extension": ".py",
   "mimetype": "text/x-python",
   "name": "python",
   "nbconvert_exporter": "python",
   "pygments_lexer": "ipython3",
   "version": "3.10.13"
  }
 },
 "nbformat": 4,
 "nbformat_minor": 4
}
