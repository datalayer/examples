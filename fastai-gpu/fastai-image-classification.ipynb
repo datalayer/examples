{
 "cells": [
  {
   "cell_type": "markdown",
   "metadata": {
    "id": "eSjydcRcBWP7",
    "papermill": {
     "duration": 0.024951,
     "end_time": "2022-04-27T15:57:24.995193",
     "exception": false,
     "start_time": "2022-04-27T15:57:24.970242",
     "status": "completed"
    },
    "tags": []
   },
   "source": [
    "# Image classification with Fastai\n",
    "In this notebook you will learn how to make in a few lines of code a model that distinguises cats from dogs in pictures, using the [fastai](https://docs.fast.ai/) library.\n",
    "\n",
    "<font color='green'>To train a deep learning model, a GPU runtime is needed. With datalayer, you can switch your kernel to a remote kernel with GPU using the kernel picker.</font>\n",
    "\n",
    "## Disclaimer\n",
    "This is widely based on the [fastbook](https://github.com/fastai/fastbook) created by [Jeremy Howard](https://github.com/jph00) and [Sylvain Grugger](https://github.com/sgugger). \n"
   ]
  },
  {
   "cell_type": "markdown",
   "metadata": {
    "id": "qcGJPzGHEWmD",
    "papermill": {
     "duration": 0.023342,
     "end_time": "2022-04-27T15:57:25.043093",
     "exception": false,
     "start_time": "2022-04-27T15:57:25.019751",
     "status": "completed"
    },
    "tags": []
   },
   "source": [
    "## Dataset\n",
    "\n",
    "A dataset called the [Oxford-IIIT Pet Dataset](http://www.robots.ox.ac.uk/~vgg/data/pets/) that contains 7,349 images of cats and dogs from 37 different breeds will be downloaded from the fast.ai datasets collection and will then be extracted."
   ]
  },
  {
   "cell_type": "code",
   "execution_count": null,
   "metadata": {
    "datalayer": {
     "kernel": {
      "displayName": "Python GPU",
      "id": "577426fe-cc3c-4b16-81bd-b2a3ca0602b6",
      "language": "python",
      "location": "remote",
      "name": "run-python-gpu"
     }
    }
   },
   "outputs": [],
   "source": [
    "from fastai.vision.all import *\n",
    "path = untar_data(URLs.PETS)/'images'  # downloads the data\n",
    "\n",
    "def is_cat(x): return x[0].isupper()  # label function (if uppercase it is a cat, otherwise it is a dog)\n",
    "\n",
    "dls = ImageDataLoaders.from_name_func(\n",
    "    path, get_image_files(path), valid_pct=0.2, seed=42,\n",
    "    label_func=is_cat, item_tfms=Resize(224))  # data loader"
   ]
  },
  {
   "cell_type": "markdown",
   "metadata": {},
   "source": [
    "We can then check if everything looks okay with the `show_batch` method (`True` is for cat, `False` is for dog):"
   ]
  },
  {
   "cell_type": "code",
   "execution_count": null,
   "metadata": {
    "datalayer": {
     "kernel": {
      "displayName": "Python GPU",
      "language": "python",
      "location": "remote",
      "name": "run-python-gpu"
     }
    }
   },
   "outputs": [],
   "source": [
    "dls.show_batch()"
   ]
  },
  {
   "cell_type": "markdown",
   "metadata": {},
   "source": [
    "## Model training\n",
    "\n",
    "A *pretrained model* that has already been trained on 1.3 million images, using a competition-winning model will be downloaded from the internet.\n",
    "\n",
    "The pretrained model will be *fine-tuned* using the latest advances in transfer learning, to create a model that is specially customized for recognizing dogs and cats. It will run two epochs, one only on \n",
    "\n",
    "The fine-tuning needs to be run on GPU."
   ]
  },
  {
   "cell_type": "code",
   "execution_count": null,
   "metadata": {
    "datalayer": {
     "kernel": {
      "displayName": "Python GPU",
      "id": "0b4f7fa2-af4e-47d6-8921-da5e15e5d0e3",
      "language": "python",
      "location": "remote",
      "name": "run-python-gpu"
     }
    },
    "id": "ZwtVH7LHEDLw",
    "outputId": "dfdaa266-9f85-42eb-90e3-05607a941ece",
    "papermill": {
     "duration": 184.87946,
     "end_time": "2022-04-27T16:00:29.946053",
     "exception": false,
     "start_time": "2022-04-27T15:57:25.066593",
     "status": "completed"
    },
    "tags": []
   },
   "outputs": [],
   "source": [
    "learn = cnn_learner(dls, resnet34, metrics=error_rate, cbs=ShowGraphCallback())  # our CNN model\n",
    "learn.fine_tune(2)  # training of the model"
   ]
  },
  {
   "cell_type": "markdown",
   "metadata": {},
   "source": [
    "## Predict on new data"
   ]
  },
  {
   "cell_type": "code",
   "execution_count": null,
   "metadata": {},
   "outputs": [],
   "source": [
    "! curl https://raw.githubusercontent.com/fastai/fastbook/master/images/chapter1_cat_example.jpg -o /tmp/chapter1_cat_example.jpg\n",
    "! ls /tmp/chapter1_cat_example.jpg"
   ]
  },
  {
   "cell_type": "code",
   "execution_count": null,
   "metadata": {
    "datalayer": {
     "kernel": {
      "displayName": "Python GPU",
      "language": "python",
      "location": "remote",
      "name": "run-python-gpu"
     }
    }
   },
   "outputs": [],
   "source": [
    "pred, _, probs = learn.predict(\"/tmp/chapter1_cat_example.jpg\")\n",
    "print(f\"Is this a cat?: {pred}.\")\n",
    "print(f\"Probability it's a cat: {probs[1].item():.6f}\")"
   ]
  },
  {
   "cell_type": "markdown",
   "metadata": {
    "papermill": {
     "duration": 0.04025,
     "end_time": "2022-04-27T16:00:32.833618",
     "exception": false,
     "start_time": "2022-04-27T16:00:32.793368",
     "status": "completed"
    },
    "tags": []
   },
   "source": [
    "## Saving our model"
   ]
  },
  {
   "cell_type": "code",
   "execution_count": null,
   "metadata": {
    "datalayer": {
     "kernel": {
      "displayName": "Python GPU",
      "language": "python",
      "location": "remote",
      "name": "run-python-gpu"
     }
    },
    "papermill": {
     "duration": 0.216367,
     "end_time": "2022-04-27T16:00:33.090048",
     "exception": false,
     "start_time": "2022-04-27T16:00:32.873681",
     "status": "completed"
    },
    "tags": []
   },
   "outputs": [],
   "source": [
    "learn.export('export.pkl')"
   ]
  }
 ],
 "metadata": {
  "kernelspec": {
   "display_name": "Python 3 (ipykernel)",
   "language": "python",
   "name": "python3"
  },
  "language_info": {
   "codemirror_mode": {
    "name": "ipython",
    "version": 3
   },
   "file_extension": ".py",
   "mimetype": "text/x-python",
   "name": "python",
   "nbconvert_exporter": "python",
   "pygments_lexer": "ipython3",
   "version": "3.10.13"
  }
 },
 "nbformat": 4,
 "nbformat_minor": 4
}
