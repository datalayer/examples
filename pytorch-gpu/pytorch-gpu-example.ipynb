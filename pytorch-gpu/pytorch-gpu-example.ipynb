{
 "cells": [
  {
   "cell_type": "markdown",
   "id": "71c04219-faf8-4844-b5d8-643b190cf372",
   "metadata": {},
   "source": [
    "# Datalayer Run - PyTorch Example with GPU"
   ]
  },
  {
   "cell_type": "markdown",
   "id": "bb174ae0-f500-49ab-bd0b-9ddb9a904f3f",
   "metadata": {},
   "source": [
    "## Check the environment"
   ]
  },
  {
   "cell_type": "code",
   "execution_count": 28,
   "id": "f5ef8b2d-4857-4d57-9b22-ce3b04d98de2",
   "metadata": {},
   "outputs": [
    {
     "name": "stdout",
     "output_type": "stream",
     "text": [
      "True\n",
      "1\n",
      "0\n",
      "<torch.cuda.device object at 0x7fc72423e3b0>\n",
      "Tesla V100S-PCIE-32GB\n",
      "device: cuda:0\n"
     ]
    }
   ],
   "source": [
    "import torch\n",
    "print(torch.cuda.is_available())\n",
    "print(torch.cuda.device_count())\n",
    "print(torch.cuda.current_device())\n",
    "print(torch.cuda.device(0))\n",
    "print(torch.cuda.get_device_name(0))\n",
    "device = torch.device(\"cuda:0\" if torch.cuda.is_available() else \"cpu\")\n",
    "print(\"device:\", device)"
   ]
  },
  {
   "cell_type": "markdown",
   "id": "eec6e970-ee83-4ff4-b894-efaaec21c689",
   "metadata": {},
   "source": [
    "## Tensor Training Example"
   ]
  },
  {
   "cell_type": "code",
   "execution_count": 29,
   "id": "eeccb782-cd39-40a9-bfad-5ed2dbf24877",
   "metadata": {},
   "outputs": [
    {
     "name": "stdout",
     "output_type": "stream",
     "text": [
      "False\n",
      "True\n"
     ]
    }
   ],
   "source": [
    "X_train = torch.FloatTensor([0., 1., 2.])\n",
    "print(X_train.is_cuda)\n",
    "X_train = X_train.to(device)\n",
    "print(X_train.is_cuda)"
   ]
  },
  {
   "cell_type": "markdown",
   "id": "32847351-54b6-48f7-8234-064b593772c9",
   "metadata": {},
   "source": [
    "## More Training Examples"
   ]
  },
  {
   "cell_type": "code",
   "execution_count": 4,
   "id": "0f3ed355-3519-40d2-a4e1-e7e50f333fd2",
   "metadata": {},
   "outputs": [
    {
     "name": "stdout",
     "output_type": "stream",
     "text": [
      "99 12638.0078125\n",
      "199 12628.5458984375\n",
      "299 12619.087890625\n",
      "399 12609.6328125\n",
      "499 12600.1826171875\n",
      "599 12590.736328125\n",
      "699 12581.2919921875\n",
      "799 12571.8525390625\n",
      "899 12562.4169921875\n",
      "999 12552.984375\n",
      "1099 12543.5556640625\n",
      "1199 12534.1318359375\n",
      "1299 12524.7109375\n",
      "1399 12515.294921875\n",
      "1499 12505.880859375\n",
      "Result: y = 0.868962287902832 + 0.5625156164169312 x + 0.9782047867774963 x^2 + 0.3898751735687256 x^3\n"
     ]
    }
   ],
   "source": [
    "import torch\n",
    "import math\n",
    "# device = torch.device(\"cpu\")\n",
    "# device = torch.device(\"cuda:0\") \n",
    "data_type = torch.float\n",
    "x = torch.linspace(-math.pi, math.pi, 1500, device=device, dtype=data_type)\n",
    "y = torch.sin(x)\n",
    "a = torch.randn((), device=device, dtype=data_type)\n",
    "b = torch.randn((), device=device, dtype=data_type)\n",
    "c = torch.randn((), device=device, dtype=data_type)\n",
    "d = torch.randn((), device=device, dtype=data_type)\n",
    "learning_rate = 1e-6\n",
    "m = 1\n",
    "for i in range(1500):\n",
    "    y_pred = a + b * m + c * m ** 2 + d * m ** 3\n",
    "    loss = (y_pred - y).pow(2).sum().item()\n",
    "    if i % 100 == 99:\n",
    "        print(i, loss)\n",
    "    grad_a = y_pred.sum()\n",
    "    grad_b = (y_pred * m).sum()\n",
    "    grad_c = (y_pred * m** 2).sum()\n",
    "    grad_d = (y_pred * m ** 3).sum()\n",
    "    a -= learning_rate * grad_a\n",
    "    b -= learning_rate * grad_b\n",
    "    c -= learning_rate * grad_c\n",
    "    d -= learning_rate * grad_d\n",
    "\n",
    "print(f'Result: y = {a.item()} + {b.item()} x + {c.item()} x^2 + {d.item()} x^3')"
   ]
  },
  {
   "cell_type": "code",
   "execution_count": null,
   "id": "4415336c-fc0d-4ae7-9499-e85cbe10fd86",
   "metadata": {},
   "outputs": [],
   "source": []
  }
 ],
 "metadata": {
  "kernelspec": {
   "display_name": "Rapids AI",
   "language": "python",
   "name": "run-rapids-ai"
  },
  "language_info": {
   "codemirror_mode": {
    "name": "ipython",
    "version": 3
   },
   "file_extension": ".py",
   "mimetype": "text/x-python",
   "name": "python",
   "nbconvert_exporter": "python",
   "pygments_lexer": "ipython3",
   "version": "3.10.6"
  }
 },
 "nbformat": 4,
 "nbformat_minor": 5
}
