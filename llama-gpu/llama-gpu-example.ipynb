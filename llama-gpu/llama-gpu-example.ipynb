{
 "cells": [
  {
   "cell_type": "markdown",
   "metadata": {},
   "source": [
    "# Datalayer Run - LAMA Example with GPU"
   ]
  },
  {
   "cell_type": "markdown",
   "metadata": {},
   "source": [
    "Inspired by the original source code available at [Modal Labs GitHub](https://github.com/modal-labs/modal-examples/blob/main/06_gpu_and_ml/openllama.py)."
   ]
  },
  {
   "cell_type": "code",
   "execution_count": null,
   "metadata": {},
   "outputs": [],
   "source": [
    "from transformers import LlamaForCausalLM, LlamaTokenizer\n",
    "from transformers import GenerationConfig\n",
    "import torch\n",
    "\n",
    "BASE_MODEL = \"openlm-research/open_llama_7b\""
   ]
  },
  {
   "cell_type": "code",
   "execution_count": null,
   "metadata": {},
   "outputs": [],
   "source": [
    "def download_models():\n",
    "    LlamaForCausalLM.from_pretrained(BASE_MODEL)\n",
    "    LlamaTokenizer.from_pretrained(BASE_MODEL)"
   ]
  },
  {
   "cell_type": "code",
   "execution_count": null,
   "metadata": {},
   "outputs": [],
   "source": [
    "download_models()"
   ]
  },
  {
   "cell_type": "code",
   "execution_count": null,
   "metadata": {},
   "outputs": [],
   "source": [
    "class OpenLlamaModel:\n",
    "    def __enter__(self):\n",
    "\n",
    "        self.tokenizer = LlamaTokenizer.from_pretrained(BASE_MODEL)\n",
    "\n",
    "        model = LlamaForCausalLM.from_pretrained(\n",
    "            BASE_MODEL,\n",
    "            torch_dtype=torch.float16,\n",
    "            device_map=\"auto\",\n",
    "        )\n",
    "\n",
    "        self.tokenizer.bos_token_id = 1\n",
    "\n",
    "        model.eval()\n",
    "        self.model = torch.compile(model)\n",
    "        self.device = \"cuda\"\n",
    "\n",
    "    def generate(\n",
    "        self,\n",
    "        input,\n",
    "        max_new_tokens=128,\n",
    "        **kwargs,\n",
    "    ):\n",
    "        inputs = self.tokenizer(input, return_tensors=\"pt\")\n",
    "        input_ids = inputs[\"input_ids\"].to(self.device)\n",
    "\n",
    "        generation_config = GenerationConfig(**kwargs)\n",
    "        with torch.no_grad():\n",
    "            generation_output = self.model.generate(\n",
    "                input_ids=input_ids,\n",
    "                generation_config=generation_config,\n",
    "                return_dict_in_generate=True,\n",
    "                output_scores=True,\n",
    "                max_new_tokens=max_new_tokens,\n",
    "            )\n",
    "        s = generation_output.sequences[0]\n",
    "        output = self.tokenizer.decode(s)\n",
    "        print(f\"\\033[96m{input}\\033[0m\")\n",
    "        print(output.split(input)[1].strip())"
   ]
  },
  {
   "cell_type": "code",
   "execution_count": null,
   "metadata": {},
   "outputs": [],
   "source": [
    "def main():\n",
    "    inputs = [\n",
    "        \"Building a website can be done in 10 simple steps:\",\n",
    "    ]\n",
    "    model = OpenLlamaModel()\n",
    "    for input in inputs:\n",
    "        model.generate(\n",
    "            input,\n",
    "            top_p=0.75,\n",
    "            top_k=40,\n",
    "            num_beams=1,\n",
    "            temperature=0.1,\n",
    "            do_sample=True,\n",
    "        )"
   ]
  },
  {
   "cell_type": "code",
   "execution_count": null,
   "metadata": {},
   "outputs": [],
   "source": [
    "main()"
   ]
  },
  {
   "cell_type": "code",
   "execution_count": null,
   "metadata": {},
   "outputs": [],
   "source": []
  }
 ],
 "metadata": {
  "kernelspec": {
   "display_name": "Python 3 (ipykernel)",
   "language": "python",
   "name": "python3"
  },
  "language_info": {
   "codemirror_mode": {
    "name": "ipython",
    "version": 3
   },
   "file_extension": ".py",
   "mimetype": "text/x-python",
   "name": "python",
   "nbconvert_exporter": "python",
   "pygments_lexer": "ipython3",
   "version": "3.11.6"
  }
 },
 "nbformat": 4,
 "nbformat_minor": 2
}
