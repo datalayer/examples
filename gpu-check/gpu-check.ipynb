{
 "cells": [
  {
   "cell_type": "markdown",
   "id": "568247b9-5152-404e-978b-b244e072a55b",
   "metadata": {},
   "source": [
    "# GPU sanity checks"
   ]
  },
  {
   "cell_type": "code",
   "execution_count": 6,
   "id": "e047c85a-ba21-4e70-8cd5-ccde10130161",
   "metadata": {
    "execution": {
     "iopub.execute_input": "2024-06-27T11:13:53.051941Z",
     "iopub.status.busy": "2024-06-27T11:13:53.050643Z",
     "iopub.status.idle": "2024-06-27T11:13:53.058053Z",
     "shell.execute_reply": "2024-06-27T11:13:53.056723Z",
     "shell.execute_reply.started": "2024-06-27T11:13:53.051882Z"
    }
   },
   "outputs": [],
   "source": [
    "# Import necessary libraries\n",
    "import torch\n",
    "import torch.cuda as cuda"
   ]
  },
  {
   "cell_type": "code",
   "execution_count": 7,
   "id": "c1fc9a72-b45a-4b47-ad41-2f270e445cda",
   "metadata": {
    "execution": {
     "iopub.execute_input": "2024-06-27T11:13:53.741134Z",
     "iopub.status.busy": "2024-06-27T11:13:53.740026Z",
     "iopub.status.idle": "2024-06-27T11:13:53.755562Z",
     "shell.execute_reply": "2024-06-27T11:13:53.754252Z",
     "shell.execute_reply.started": "2024-06-27T11:13:53.741081Z"
    }
   },
   "outputs": [],
   "source": [
    "# Function to check the number of GPUs and their memory\n",
    "def check_gpus():\n",
    "    gpu_count = cuda.device_count()\n",
    "    print(f\"Number of available GPUs: {gpu_count}\")\n",
    "    for i in range(gpu_count):\n",
    "        gpu_properties = cuda.get_device_properties(i)\n",
    "        print(f\"GPU {i}: {gpu_properties.name}\")\n",
    "        print(f\"  Total Memory: {gpu_properties.total_memory / 1024 ** 3:.2f} GB\")\n",
    "\n",
    "# Function to validate the expected number of GPUs and memory\n",
    "def validate_gpus(expected_gpu_count, expected_memory_gb):\n",
    "    actual_gpu_count = cuda.device_count()\n",
    "    if actual_gpu_count < expected_gpu_count:\n",
    "        raise ValueError(f\"Expected at least {expected_gpu_count} GPUs, but found {actual_gpu_count}\")\n",
    "    \n",
    "    for i in range(expected_gpu_count):\n",
    "        gpu_properties = cuda.get_device_properties(i)\n",
    "        actual_memory_gb = gpu_properties.total_memory / 1024 ** 3\n",
    "        if actual_memory_gb < expected_memory_gb:\n",
    "            raise ValueError(f\"Expected GPU {i} to have at least {expected_memory_gb} GB, but found {actual_memory_gb:.2f} GB\")\n",
    "        print(f\"GPU {i} has sufficient memory: {actual_memory_gb:.2f} GB\")\n",
    "\n",
    "# Function to test loading a tensor onto the GPU\n",
    "def test_tensor_load(gpu_index, size_gb):\n",
    "    tensor_size = int(size_gb * 1024 ** 3 / 4)  # size in floats (4 bytes per float)\n",
    "    device = torch.device(f'cuda:{gpu_index}')\n",
    "    try:\n",
    "        tensor = torch.rand(tensor_size, device=device)\n",
    "        print(f\"Successfully loaded tensor of size {size_gb} GB onto GPU {gpu_index}\")\n",
    "    except RuntimeError as e:\n",
    "        print(f\"Failed to load tensor of size {size_gb} GB onto GPU {gpu_index}: {e}\")\n",
    "\n",
    "# Function to test loading an oversized tensor onto the GPU\n",
    "def test_oversized_tensor_load(gpu_index, size_gb):\n",
    "    tensor_size = int(size_gb * 1024 ** 3 / 4)  # size in floats (4 bytes per float)\n",
    "    device = torch.device(f'cuda:{gpu_index}')\n",
    "    try:\n",
    "        tensor = torch.rand(tensor_size, device=device)\n",
    "        print(f\"Unexpectedly succeeded in loading tensor of size {size_gb} GB onto GPU {gpu_index}\")\n",
    "    except RuntimeError as e:\n",
    "        print(f\"Correctly failed to load tensor of size {size_gb} GB onto GPU {gpu_index}: {e}\")"
   ]
  },
  {
   "cell_type": "markdown",
   "id": "84c1a7e4-b93a-41a9-b470-4e952ad28d30",
   "metadata": {},
   "source": [
    "## Checking GPU availability and memory..."
   ]
  },
  {
   "cell_type": "code",
   "execution_count": 9,
   "id": "11d551eb-6e4c-469d-9f7c-200c6ef4513e",
   "metadata": {
    "execution": {
     "iopub.execute_input": "2024-06-27T11:13:55.525271Z",
     "iopub.status.busy": "2024-06-27T11:13:55.523994Z",
     "iopub.status.idle": "2024-06-27T11:13:55.532686Z",
     "shell.execute_reply": "2024-06-27T11:13:55.531242Z",
     "shell.execute_reply.started": "2024-06-27T11:13:55.525198Z"
    }
   },
   "outputs": [
    {
     "name": "stdout",
     "output_type": "stream",
     "text": [
      "Number of available GPUs: 2\n",
      "GPU 0: Tesla V100S-PCIE-32GB\n",
      "  Total Memory: 31.73 GB\n",
      "GPU 1: Tesla V100S-PCIE-32GB\n",
      "  Total Memory: 31.73 GB\n"
     ]
    }
   ],
   "source": [
    "check_gpus()"
   ]
  },
  {
   "cell_type": "markdown",
   "id": "f20153dd-4908-42a2-ac90-c92572137bfa",
   "metadata": {},
   "source": [
    "## Validating expected GPU count and memory..."
   ]
  },
  {
   "cell_type": "code",
   "execution_count": 8,
   "id": "3c8c7318-5862-42d2-ad18-c23e4b85a31b",
   "metadata": {
    "execution": {
     "iopub.execute_input": "2024-06-27T11:13:54.455113Z",
     "iopub.status.busy": "2024-06-27T11:13:54.453966Z",
     "iopub.status.idle": "2024-06-27T11:13:54.461919Z",
     "shell.execute_reply": "2024-06-27T11:13:54.460130Z",
     "shell.execute_reply.started": "2024-06-27T11:13:54.455063Z"
    }
   },
   "outputs": [],
   "source": [
    "# Parameters\n",
    "expected_gpu_count = 2  # Change as needed\n",
    "expected_memory_gb = 31  # Change as needed (per GPU)\n",
    "tensor_size_gb = 31  # Change as needed"
   ]
  },
  {
   "cell_type": "code",
   "execution_count": 10,
   "id": "10fdea83-2b30-4223-8dfb-2fb94d0faad4",
   "metadata": {
    "execution": {
     "iopub.execute_input": "2024-06-27T11:13:56.280912Z",
     "iopub.status.busy": "2024-06-27T11:13:56.279857Z",
     "iopub.status.idle": "2024-06-27T11:13:58.194581Z",
     "shell.execute_reply": "2024-06-27T11:13:58.193629Z",
     "shell.execute_reply.started": "2024-06-27T11:13:56.280862Z"
    }
   },
   "outputs": [
    {
     "name": "stdout",
     "output_type": "stream",
     "text": [
      "GPU 0 has sufficient memory: 31.73 GB\n",
      "GPU 1 has sufficient memory: 31.73 GB\n",
      "\n",
      "Testing tensor load on GPU 0...\n",
      "Successfully loaded tensor of size 31 GB onto GPU 0\n",
      "\n",
      "Testing oversized tensor load on GPU 0...\n",
      "Correctly failed to load tensor of size 62 GB onto GPU 0: CUDA out of memory. Tried to allocate 62.00 GiB. GPU 0 has a total capacity of 31.73 GiB of which 31.43 GiB is free. Process 837903 has 308.00 MiB memory in use. Of the allocated memory 0 bytes is allocated by PyTorch, and 0 bytes is reserved by PyTorch but unallocated. If reserved but unallocated memory is large try setting PYTORCH_CUDA_ALLOC_CONF=expandable_segments:True to avoid fragmentation.  See documentation for Memory Management  (https://pytorch.org/docs/stable/notes/cuda.html#environment-variables)\n",
      "\n",
      "Testing tensor load on GPU 1...\n",
      "Successfully loaded tensor of size 31 GB onto GPU 1\n",
      "\n",
      "Testing oversized tensor load on GPU 1...\n",
      "Correctly failed to load tensor of size 62 GB onto GPU 1: CUDA out of memory. Tried to allocate 62.00 GiB. GPU 1 has a total capacity of 31.73 GiB of which 31.43 GiB is free. Process 837903 has 308.00 MiB memory in use. Of the allocated memory 0 bytes is allocated by PyTorch, and 0 bytes is reserved by PyTorch but unallocated. If reserved but unallocated memory is large try setting PYTORCH_CUDA_ALLOC_CONF=expandable_segments:True to avoid fragmentation.  See documentation for Memory Management  (https://pytorch.org/docs/stable/notes/cuda.html#environment-variables)\n"
     ]
    }
   ],
   "source": [
    "validate_gpus(expected_gpu_count, expected_memory_gb)\n",
    "\n",
    "for i in range(expected_gpu_count):\n",
    "    print(f\"\\nTesting tensor load on GPU {i}...\")\n",
    "    test_tensor_load(i, tensor_size_gb)\n",
    "    \n",
    "    print(f\"\\nTesting oversized tensor load on GPU {i}...\")\n",
    "    test_oversized_tensor_load(i, 2 * tensor_size_gb)"
   ]
  },
  {
   "cell_type": "markdown",
   "id": "736d49e3-6e58-4a53-a3b4-7281b1ed73cd",
   "metadata": {},
   "source": [
    "The validation confirms that the current system configuration meets the expected requirements:\n",
    "- **GPU Count:** The expected number of GPUs (2) is available.\n",
    "- **GPU Memory:** Each GPU has sufficient memory (31 GB per GPU) to support the planned workload.\n",
    "This ensures that the system is adequately provisioned for the tasks requiring GPU resources."
   ]
  },
  {
   "cell_type": "code",
   "execution_count": null,
   "id": "d33b475f-e270-4944-87a9-ee4a8af6b627",
   "metadata": {},
   "outputs": [],
   "source": []
  }
 ],
 "metadata": {
  "kernelspec": {
   "display_name": "Python 3 (ipykernel)",
   "language": "python",
   "name": "python3"
  },
  "language_info": {
   "codemirror_mode": {
    "name": "ipython",
    "version": 3
   },
   "file_extension": ".py",
   "mimetype": "text/x-python",
   "name": "python",
   "nbconvert_exporter": "python",
   "pygments_lexer": "ipython3",
   "version": "3.11.8"
  }
 },
 "nbformat": 4,
 "nbformat_minor": 5
}
