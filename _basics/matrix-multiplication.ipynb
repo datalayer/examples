{
 "cells": [
  {
   "cell_type": "markdown",
   "metadata": {},
   "source": [
    "# Matrix Multiplication"
   ]
  },
  {
   "cell_type": "markdown",
   "metadata": {},
   "source": [
    "This notebook demonstrates use **cell-specific Kernels**, allowing you to execute specific cells with different kernels. This feature **optimizes costs** by enabling you to, for example, leverage the local CPU for data preparation and reserving the powerful (and often more expensive) GPU resources for intensive computations like matrix multiplication."
   ]
  },
  {
   "cell_type": "code",
   "execution_count": 26,
   "metadata": {
    "execution": {
     "iopub.execute_input": "2024-07-11T08:41:56.911272Z",
     "iopub.status.busy": "2024-07-11T08:41:56.910954Z",
     "iopub.status.idle": "2024-07-11T08:41:56.918128Z",
     "shell.execute_reply": "2024-07-11T08:41:56.917774Z",
     "shell.execute_reply.started": "2024-07-11T08:41:56.911255Z"
    },
    "scrolled": true
   },
   "outputs": [
    {
     "data": {
      "text/html": [
       "<div>\n",
       "<style scoped>\n",
       "    .dataframe tbody tr th:only-of-type {\n",
       "        vertical-align: middle;\n",
       "    }\n",
       "\n",
       "    .dataframe tbody tr th {\n",
       "        vertical-align: top;\n",
       "    }\n",
       "\n",
       "    .dataframe thead th {\n",
       "        text-align: right;\n",
       "    }\n",
       "</style>\n",
       "<table border=\"1\" class=\"dataframe\">\n",
       "  <thead>\n",
       "    <tr style=\"text-align: right;\">\n",
       "      <th></th>\n",
       "      <th>A</th>\n",
       "      <th>B</th>\n",
       "      <th>C</th>\n",
       "    </tr>\n",
       "  </thead>\n",
       "  <tbody>\n",
       "    <tr>\n",
       "      <th>0</th>\n",
       "      <td>-0.894251</td>\n",
       "      <td>1.858151</td>\n",
       "      <td>-0.242483</td>\n",
       "    </tr>\n",
       "    <tr>\n",
       "      <th>1</th>\n",
       "      <td>-0.521657</td>\n",
       "      <td>-2.066775</td>\n",
       "      <td>-0.041514</td>\n",
       "    </tr>\n",
       "    <tr>\n",
       "      <th>2</th>\n",
       "      <td>-0.715635</td>\n",
       "      <td>-0.343329</td>\n",
       "      <td>-2.149811</td>\n",
       "    </tr>\n",
       "    <tr>\n",
       "      <th>3</th>\n",
       "      <td>2.119935</td>\n",
       "      <td>0.646929</td>\n",
       "      <td>-0.533308</td>\n",
       "    </tr>\n",
       "    <tr>\n",
       "      <th>4</th>\n",
       "      <td>-1.519793</td>\n",
       "      <td>-1.123283</td>\n",
       "      <td>-0.383150</td>\n",
       "    </tr>\n",
       "  </tbody>\n",
       "</table>\n",
       "</div>"
      ],
      "text/plain": [
       "          A         B         C\n",
       "0 -0.894251  1.858151 -0.242483\n",
       "1 -0.521657 -2.066775 -0.041514\n",
       "2 -0.715635 -0.343329 -2.149811\n",
       "3  2.119935  0.646929 -0.533308\n",
       "4 -1.519793 -1.123283 -0.383150"
      ]
     },
     "execution_count": 26,
     "metadata": {},
     "output_type": "execute_result"
    }
   ],
   "source": [
    "# Load a dataframe in a local CPU Kernel.\n",
    "import pandas as pd\n",
    "import numpy as np\n",
    "\n",
    "# Create a sample dataframe.\n",
    "MAT_SIZE = 10000\n",
    "\n",
    "data = {\n",
    "    'A': np.random.randn(MAT_SIZE),\n",
    "    'B': np.random.randn(MAT_SIZE),\n",
    "    'C': np.random.randn(MAT_SIZE),\n",
    "}\n",
    "\n",
    "df = pd.DataFrame(data)\n",
    "\n",
    "# Display the first few rows of the dataframe.\n",
    "df.head()"
   ]
  },
  {
   "cell_type": "code",
   "execution_count": 27,
   "metadata": {
    "execution": {
     "iopub.execute_input": "2024-07-11T08:41:58.078326Z",
     "iopub.status.busy": "2024-07-11T08:41:58.077992Z",
     "iopub.status.idle": "2024-07-11T08:41:58.237454Z",
     "shell.execute_reply": "2024-07-11T08:41:58.237069Z",
     "shell.execute_reply.started": "2024-07-11T08:41:58.078301Z"
    }
   },
   "outputs": [
    {
     "name": "stdout",
     "output_type": "stream",
     "text": [
      "[[ 4.311207   -3.3638203   0.5232931  ...  1.8285556   0.34275815\n",
      "  -3.6086333 ]\n",
      " [-3.3638203   4.5454087   1.1721474  ... -0.55464     0.4264792\n",
      "   1.1156993 ]\n",
      " [ 0.5232931   1.1721474   5.251695   ...  2.8091228   0.8251961\n",
      "  -3.5267255 ]\n",
      " ...\n",
      " [ 1.8285556  -0.55464     2.8091228  ...  2.0706007   0.5626871\n",
      "  -3.1150877 ]\n",
      " [ 0.34275815  0.4264792   0.8251961  ...  0.5626871   0.2895685\n",
      "  -0.99345976]\n",
      " [-3.6086333   1.1156993  -3.5267255  ... -3.1150877  -0.99345976\n",
      "   5.2596564 ]]\n"
     ]
    }
   ],
   "source": [
    "import torch\n",
    "\n",
    "# Convert dataframe to torch tensor.\n",
    "tensor = torch.tensor(df.values).float()\n",
    "\n",
    "# Perform a intensive operator e.g. a matrix multiplication.\n",
    "result = torch.matmul(tensor, tensor.T)\n",
    "\n",
    "# Convert to numpy.\n",
    "result_np = result.numpy()\n",
    "print(result_np)"
   ]
  },
  {
   "cell_type": "code",
   "execution_count": null,
   "metadata": {},
   "outputs": [],
   "source": [
    "# Transfer dataframe to GPU Kernel and perform computation.\n",
    "import torch\n",
    "\n",
    "# Convert dataframe to torch tensor and transfer to GPU.\n",
    "# tensor = torch.tensor(df.values).float().cuda()\n",
    "tensor = torch.tensor(df.values).float()\n",
    "\n",
    "# Perform a intensive operator e.g. a matrix multiplication.\n",
    "result = torch.matmul(tensor, tensor.T)\n",
    "\n",
    "# Convert to numpy.\n",
    "result_np = result().cpu().numpy()"
   ]
  },
  {
   "cell_type": "code",
   "execution_count": 29,
   "metadata": {
    "execution": {
     "iopub.execute_input": "2024-07-11T08:42:06.168317Z",
     "iopub.status.busy": "2024-07-11T08:42:06.167977Z",
     "iopub.status.idle": "2024-07-11T08:42:06.172467Z",
     "shell.execute_reply": "2024-07-11T08:42:06.172013Z",
     "shell.execute_reply.started": "2024-07-11T08:42:06.168300Z"
    }
   },
   "outputs": [
    {
     "data": {
      "text/plain": [
       "(10000, 10000)"
      ]
     },
     "execution_count": 29,
     "metadata": {},
     "output_type": "execute_result"
    }
   ],
   "source": [
    "# Display the shape of the result.\n",
    "result_np.shape"
   ]
  },
  {
   "cell_type": "code",
   "execution_count": 30,
   "metadata": {
    "execution": {
     "iopub.execute_input": "2024-07-11T08:42:07.359742Z",
     "iopub.status.busy": "2024-07-11T08:42:07.359427Z",
     "iopub.status.idle": "2024-07-11T08:42:07.363807Z",
     "shell.execute_reply": "2024-07-11T08:42:07.363373Z",
     "shell.execute_reply.started": "2024-07-11T08:42:07.359726Z"
    }
   },
   "outputs": [
    {
     "name": "stdout",
     "output_type": "stream",
     "text": [
      "[[ 4.311207   -3.3638203   0.5232931  ...  1.8285556   0.34275815\n",
      "  -3.6086333 ]\n",
      " [-3.3638203   4.5454087   1.1721474  ... -0.55464     0.4264792\n",
      "   1.1156993 ]\n",
      " [ 0.5232931   1.1721474   5.251695   ...  2.8091228   0.8251961\n",
      "  -3.5267255 ]\n",
      " ...\n",
      " [ 1.8285556  -0.55464     2.8091228  ...  2.0706007   0.5626871\n",
      "  -3.1150877 ]\n",
      " [ 0.34275815  0.4264792   0.8251961  ...  0.5626871   0.2895685\n",
      "  -0.99345976]\n",
      " [-3.6086333   1.1156993  -3.5267255  ... -3.1150877  -0.99345976\n",
      "   5.2596564 ]]\n"
     ]
    }
   ],
   "source": [
    "# Display the result.\n",
    "print(result_np)"
   ]
  },
  {
   "cell_type": "code",
   "execution_count": null,
   "metadata": {},
   "outputs": [],
   "source": []
  }
 ],
 "metadata": {
  "kernelspec": {
   "display_name": "Python 3 (ipykernel)",
   "language": "python",
   "name": "python3"
  },
  "language_info": {
   "codemirror_mode": {
    "name": "ipython",
    "version": 3
   },
   "file_extension": ".py",
   "mimetype": "text/x-python",
   "name": "python",
   "nbconvert_exporter": "python",
   "pygments_lexer": "ipython3",
   "version": "3.12.3"
  }
 },
 "nbformat": 4,
 "nbformat_minor": 4
}
