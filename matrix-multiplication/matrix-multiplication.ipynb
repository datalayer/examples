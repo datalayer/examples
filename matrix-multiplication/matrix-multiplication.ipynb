{
 "cells": [
  {
   "cell_type": "markdown",
   "metadata": {},
   "source": [
    "# Matrix Multiplication"
   ]
  },
  {
   "cell_type": "markdown",
   "metadata": {},
   "source": [
    "This notebook demonstrates use **cell-specific Kernels**, allowing you to execute specific cells with different kernels. This feature **optimizes costs** by enabling you to, for example, leverage the local CPU for data preparation and reserving the powerful (and often more expensive) GPU resources for intensive computations like matrix multiplication."
   ]
  },
  {
   "cell_type": "code",
   "execution_count": 1,
   "metadata": {
    "execution": {
     "iopub.execute_input": "2024-07-11T14:54:07.897732Z",
     "iopub.status.busy": "2024-07-11T14:54:07.897158Z",
     "iopub.status.idle": "2024-07-11T14:54:10.666265Z",
     "shell.execute_reply": "2024-07-11T14:54:10.665449Z",
     "shell.execute_reply.started": "2024-07-11T14:54:07.897697Z"
    },
    "scrolled": true
   },
   "outputs": [
    {
     "data": {
      "text/html": [
       "<div>\n",
       "<style scoped>\n",
       "    .dataframe tbody tr th:only-of-type {\n",
       "        vertical-align: middle;\n",
       "    }\n",
       "\n",
       "    .dataframe tbody tr th {\n",
       "        vertical-align: top;\n",
       "    }\n",
       "\n",
       "    .dataframe thead th {\n",
       "        text-align: right;\n",
       "    }\n",
       "</style>\n",
       "<table border=\"1\" class=\"dataframe\">\n",
       "  <thead>\n",
       "    <tr style=\"text-align: right;\">\n",
       "      <th></th>\n",
       "      <th>A</th>\n",
       "      <th>B</th>\n",
       "      <th>C</th>\n",
       "    </tr>\n",
       "  </thead>\n",
       "  <tbody>\n",
       "    <tr>\n",
       "      <th>0</th>\n",
       "      <td>0.191428</td>\n",
       "      <td>-1.382958</td>\n",
       "      <td>-0.374115</td>\n",
       "    </tr>\n",
       "    <tr>\n",
       "      <th>1</th>\n",
       "      <td>0.392820</td>\n",
       "      <td>-1.405846</td>\n",
       "      <td>-0.772777</td>\n",
       "    </tr>\n",
       "    <tr>\n",
       "      <th>2</th>\n",
       "      <td>1.077101</td>\n",
       "      <td>-1.709832</td>\n",
       "      <td>-1.932993</td>\n",
       "    </tr>\n",
       "    <tr>\n",
       "      <th>3</th>\n",
       "      <td>0.630385</td>\n",
       "      <td>-0.973870</td>\n",
       "      <td>-2.014907</td>\n",
       "    </tr>\n",
       "    <tr>\n",
       "      <th>4</th>\n",
       "      <td>-0.518404</td>\n",
       "      <td>-0.030510</td>\n",
       "      <td>3.133138</td>\n",
       "    </tr>\n",
       "  </tbody>\n",
       "</table>\n",
       "</div>"
      ],
      "text/plain": [
       "          A         B         C\n",
       "0  0.191428 -1.382958 -0.374115\n",
       "1  0.392820 -1.405846 -0.772777\n",
       "2  1.077101 -1.709832 -1.932993\n",
       "3  0.630385 -0.973870 -2.014907\n",
       "4 -0.518404 -0.030510  3.133138"
      ]
     },
     "execution_count": 1,
     "metadata": {},
     "output_type": "execute_result"
    }
   ],
   "source": [
    "# Load a dataframe in a local CPU Kernel.\n",
    "import pandas as pd\n",
    "import numpy as np\n",
    "\n",
    "# Create a sample dataframe.\n",
    "SIZE = 50000\n",
    "\n",
    "data = {\n",
    "    'A': np.random.randn(SIZE),\n",
    "    'B': np.random.randn(SIZE),\n",
    "    'C': np.random.randn(SIZE),\n",
    "}\n",
    "\n",
    "df = pd.DataFrame(data)\n",
    "\n",
    "# Display the first few rows of the dataframe.\n",
    "df.head()"
   ]
  },
  {
   "cell_type": "code",
   "execution_count": null,
   "metadata": {
    "datalayer": {
     "in": [
      "df"
     ],
     "out": "result_np"
    },
    "execution": {
     "iopub.execute_input": "2024-07-11T14:53:45.937292Z",
     "iopub.status.busy": "2024-07-11T14:53:45.936914Z"
    }
   },
   "outputs": [],
   "source": [
    "# Try a multiplication on CPU.\n",
    "import torch\n",
    "\n",
    "# Convert dataframe to torch tensor.\n",
    "tensor = torch.tensor(df.values).float()\n",
    "\n",
    "# Perform a intensive operator e.g. a matrix multiplication.\n",
    "result = torch.matmul(tensor, tensor.T)\n",
    "\n",
    "# Convert to numpy.\n",
    "# result_np = result.numpy()\n",
    "# print(result_np)"
   ]
  },
  {
   "cell_type": "code",
   "execution_count": 2,
   "metadata": {
    "execution": {
     "iopub.execute_input": "2024-07-11T14:54:13.394004Z",
     "iopub.status.busy": "2024-07-11T14:54:13.393481Z",
     "iopub.status.idle": "2024-07-11T14:54:13.400246Z",
     "shell.execute_reply": "2024-07-11T14:54:13.399457Z",
     "shell.execute_reply.started": "2024-07-11T14:54:13.393972Z"
    }
   },
   "outputs": [
    {
     "data": {
      "text/plain": [
       "0"
      ]
     },
     "execution_count": 2,
     "metadata": {},
     "output_type": "execute_result"
    }
   ],
   "source": [
    "# Reset the sum.\n",
    "s = 0\n",
    "s"
   ]
  },
  {
   "cell_type": "code",
   "execution_count": 2,
   "metadata": {
    "datalayer": {
     "in": [
      "df"
     ],
     "kernel": {
      "displayName": "A PyTorch kernel for scalable data analysis with GPU (CUDA).",
      "language": "python",
      "location": "remote",
      "name": "pytorch-cuda-env",
      "params": {
       "persistent": false
      }
     },
     "out": "s"
    },
    "execution": {
     "iopub.execute_input": "2024-07-11T14:54:29.964659Z",
     "iopub.status.busy": "2024-07-11T14:54:29.964320Z",
     "iopub.status.idle": "2024-07-11T14:54:43.754666Z",
     "shell.execute_reply": "2024-07-11T14:54:43.753939Z",
     "shell.execute_reply.started": "2024-07-11T14:54:29.964639Z"
    }
   },
   "outputs": [
    {
     "name": "stdout",
     "output_type": "stream",
     "text": [
      "[[ 2.0891793   2.3085299   3.2939749  ... -0.77876836  3.1263223\n",
      "   1.14207   ]\n",
      " [ 2.3085299   2.7278945   4.32064    ... -0.3444719   3.1461623\n",
      "   1.2121161 ]\n",
      " [ 3.2939749   4.32064     7.820134   ...  0.73067576  3.8049405\n",
      "   1.6370063 ]\n",
      " ...\n",
      " [-0.77876836 -0.3444719   0.73067576 ...  1.8882452  -2.281836\n",
      "  -0.6695623 ]\n",
      " [ 3.1263223   3.1461623   3.8049405  ... -2.281836    5.722018\n",
      "   2.0253935 ]\n",
      " [ 1.14207     1.2121161   1.6370063  ... -0.6695623   2.0253935\n",
      "   0.7423804 ]]\n",
      "48295.0703125\n"
     ]
    }
   ],
   "source": [
    "# Transfer dataframe to GPU Kernel and perform computation.\n",
    "import torch\n",
    "\n",
    "# Convert dataframe to torch tensor and transfer to GPU.\n",
    "tensor = torch.tensor(df.values).float().cuda()\n",
    "\n",
    "# Perform a intensive operator e.g. a matrix multiplication.\n",
    "result = torch.matmul(tensor, tensor.T)\n",
    "\n",
    "# Convert to numpy.\n",
    "result_np = result.cpu().numpy()\n",
    "print(result_np)\n",
    "\n",
    "s = torch.sum(result).item()\n",
    "print(s)"
   ]
  },
  {
   "cell_type": "code",
   "execution_count": 8,
   "metadata": {
    "execution": {
     "iopub.execute_input": "2024-07-11T14:54:47.860301Z",
     "iopub.status.busy": "2024-07-11T14:54:47.859945Z",
     "iopub.status.idle": "2024-07-11T14:54:47.864923Z",
     "shell.execute_reply": "2024-07-11T14:54:47.864306Z",
     "shell.execute_reply.started": "2024-07-11T14:54:47.860274Z"
    }
   },
   "outputs": [
    {
     "data": {
      "text/plain": [
       "48295.0703125"
      ]
     },
     "execution_count": 8,
     "metadata": {},
     "output_type": "execute_result"
    }
   ],
   "source": [
    "# Display the sum.\n",
    "s"
   ]
  },
  {
   "cell_type": "code",
   "execution_count": null,
   "metadata": {},
   "outputs": [],
   "source": []
  }
 ],
 "metadata": {
  "kernelspec": {
   "display_name": "anaconda-ai-2023-11",
   "language": "python",
   "name": "conda-env-anaconda-ai-2023-11-py"
  },
  "language_info": {
   "codemirror_mode": {
    "name": "ipython",
    "version": 3
   },
   "file_extension": ".py",
   "mimetype": "text/x-python",
   "name": "python",
   "nbconvert_exporter": "python",
   "pygments_lexer": "ipython3",
   "version": "3.10.13"
  }
 },
 "nbformat": 4,
 "nbformat_minor": 4
}
